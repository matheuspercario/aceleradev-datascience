{
 "cells": [
  {
   "cell_type": "markdown",
   "metadata": {},
   "source": [
    "# Desafio 5\n",
    "\n",
    "Neste desafio, vamos praticar sobre redução de dimensionalidade com PCA e seleção de variáveis com RFE. Utilizaremos o _data set_ [Fifa 2019](https://www.kaggle.com/karangadiya/fifa19), contendo originalmente 89 variáveis de mais de 18 mil jogadores do _game_ FIFA 2019.\n",
    "\n",
    "> Obs.: Por favor, não modifique o nome das funções de resposta."
   ]
  },
  {
   "cell_type": "markdown",
   "metadata": {},
   "source": [
    "## _Setup_ geral"
   ]
  },
  {
   "cell_type": "code",
   "execution_count": 1,
   "metadata": {},
   "outputs": [],
   "source": [
    "from math import sqrt\n",
    "\n",
    "import pandas as pd\n",
    "import matplotlib.pyplot as plt\n",
    "import numpy as np\n",
    "import scipy.stats as sct\n",
    "import seaborn as sns\n",
    "import statsmodels.api as sm\n",
    "import statsmodels.stats as st\n",
    "import sklearn as sk\n",
    "\n",
    "from sklearn.decomposition import PCA\n",
    "from sklearn.linear_model import LinearRegression\n",
    "from sklearn.feature_selection import RFE\n",
    "\n",
    "from loguru import logger"
   ]
  },
  {
   "cell_type": "code",
   "execution_count": 2,
   "metadata": {},
   "outputs": [],
   "source": [
    "# Algumas configurações para o matplotlib.\n",
    "#%matplotlib inline\n",
    "\n",
    "from IPython.core.pylabtools import figsize\n",
    "\n",
    "\n",
    "figsize(12, 8)\n",
    "\n",
    "sns.set()"
   ]
  },
  {
   "cell_type": "code",
   "execution_count": 3,
   "metadata": {
    "scrolled": false
   },
   "outputs": [],
   "source": [
    "fifa = pd.read_csv(\"fifa.csv\")"
   ]
  },
  {
   "cell_type": "code",
   "execution_count": 4,
   "metadata": {},
   "outputs": [],
   "source": [
    "columns_to_drop = [\"Unnamed: 0\", \"ID\", \"Name\", \"Photo\", \"Nationality\", \"Flag\",\n",
    "                   \"Club\", \"Club Logo\", \"Value\", \"Wage\", \"Special\", \"Preferred Foot\",\n",
    "                   \"International Reputation\", \"Weak Foot\", \"Skill Moves\", \"Work Rate\",\n",
    "                   \"Body Type\", \"Real Face\", \"Position\", \"Jersey Number\", \"Joined\",\n",
    "                   \"Loaned From\", \"Contract Valid Until\", \"Height\", \"Weight\", \"LS\",\n",
    "                   \"ST\", \"RS\", \"LW\", \"LF\", \"CF\", \"RF\", \"RW\", \"LAM\", \"CAM\", \"RAM\", \"LM\",\n",
    "                   \"LCM\", \"CM\", \"RCM\", \"RM\", \"LWB\", \"LDM\", \"CDM\", \"RDM\", \"RWB\", \"LB\", \"LCB\",\n",
    "                   \"CB\", \"RCB\", \"RB\", \"Release Clause\"\n",
    "]\n",
    "\n",
    "try:\n",
    "    fifa.drop(columns_to_drop, axis=1, inplace=True)\n",
    "except KeyError:\n",
    "    logger.warning(f\"Columns already dropped\")"
   ]
  },
  {
   "cell_type": "markdown",
   "metadata": {},
   "source": [
    "## Inicia sua análise a partir daqui"
   ]
  },
  {
   "cell_type": "code",
   "execution_count": 5,
   "metadata": {},
   "outputs": [],
   "source": [
    "# Sua análise começa aqui.\n"
   ]
  },
  {
   "cell_type": "code",
   "execution_count": 6,
   "metadata": {},
   "outputs": [
    {
     "output_type": "execute_result",
     "data": {
      "text/plain": "(18207, 37)"
     },
     "metadata": {},
     "execution_count": 6
    }
   ],
   "source": [
    "fifa.shape"
   ]
  },
  {
   "cell_type": "code",
   "execution_count": 7,
   "metadata": {},
   "outputs": [
    {
     "output_type": "execute_result",
     "data": {
      "text/plain": "   Age  Overall  Potential  Crossing  Finishing  HeadingAccuracy  \\\n0   31       94         94      84.0       95.0             70.0   \n1   33       94         94      84.0       94.0             89.0   \n2   26       92         93      79.0       87.0             62.0   \n3   27       91         93      17.0       13.0             21.0   \n4   27       91         92      93.0       82.0             55.0   \n\n   ShortPassing  Volleys  Dribbling  Curve  ...  Penalties  Composure  \\\n0          90.0     86.0       97.0   93.0  ...       75.0       96.0   \n1          81.0     87.0       88.0   81.0  ...       85.0       95.0   \n2          84.0     84.0       96.0   88.0  ...       81.0       94.0   \n3          50.0     13.0       18.0   21.0  ...       40.0       68.0   \n4          92.0     82.0       86.0   85.0  ...       79.0       88.0   \n\n   Marking  StandingTackle  SlidingTackle  GKDiving  GKHandling  GKKicking  \\\n0     33.0            28.0           26.0       6.0        11.0       15.0   \n1     28.0            31.0           23.0       7.0        11.0       15.0   \n2     27.0            24.0           33.0       9.0         9.0       15.0   \n3     15.0            21.0           13.0      90.0        85.0       87.0   \n4     68.0            58.0           51.0      15.0        13.0        5.0   \n\n   GKPositioning  GKReflexes  \n0           14.0         8.0  \n1           14.0        11.0  \n2           15.0        11.0  \n3           88.0        94.0  \n4           10.0        13.0  \n\n[5 rows x 37 columns]",
      "text/html": "<div>\n<style scoped>\n    .dataframe tbody tr th:only-of-type {\n        vertical-align: middle;\n    }\n\n    .dataframe tbody tr th {\n        vertical-align: top;\n    }\n\n    .dataframe thead th {\n        text-align: right;\n    }\n</style>\n<table border=\"1\" class=\"dataframe\">\n  <thead>\n    <tr style=\"text-align: right;\">\n      <th></th>\n      <th>Age</th>\n      <th>Overall</th>\n      <th>Potential</th>\n      <th>Crossing</th>\n      <th>Finishing</th>\n      <th>HeadingAccuracy</th>\n      <th>ShortPassing</th>\n      <th>Volleys</th>\n      <th>Dribbling</th>\n      <th>Curve</th>\n      <th>...</th>\n      <th>Penalties</th>\n      <th>Composure</th>\n      <th>Marking</th>\n      <th>StandingTackle</th>\n      <th>SlidingTackle</th>\n      <th>GKDiving</th>\n      <th>GKHandling</th>\n      <th>GKKicking</th>\n      <th>GKPositioning</th>\n      <th>GKReflexes</th>\n    </tr>\n  </thead>\n  <tbody>\n    <tr>\n      <th>0</th>\n      <td>31</td>\n      <td>94</td>\n      <td>94</td>\n      <td>84.0</td>\n      <td>95.0</td>\n      <td>70.0</td>\n      <td>90.0</td>\n      <td>86.0</td>\n      <td>97.0</td>\n      <td>93.0</td>\n      <td>...</td>\n      <td>75.0</td>\n      <td>96.0</td>\n      <td>33.0</td>\n      <td>28.0</td>\n      <td>26.0</td>\n      <td>6.0</td>\n      <td>11.0</td>\n      <td>15.0</td>\n      <td>14.0</td>\n      <td>8.0</td>\n    </tr>\n    <tr>\n      <th>1</th>\n      <td>33</td>\n      <td>94</td>\n      <td>94</td>\n      <td>84.0</td>\n      <td>94.0</td>\n      <td>89.0</td>\n      <td>81.0</td>\n      <td>87.0</td>\n      <td>88.0</td>\n      <td>81.0</td>\n      <td>...</td>\n      <td>85.0</td>\n      <td>95.0</td>\n      <td>28.0</td>\n      <td>31.0</td>\n      <td>23.0</td>\n      <td>7.0</td>\n      <td>11.0</td>\n      <td>15.0</td>\n      <td>14.0</td>\n      <td>11.0</td>\n    </tr>\n    <tr>\n      <th>2</th>\n      <td>26</td>\n      <td>92</td>\n      <td>93</td>\n      <td>79.0</td>\n      <td>87.0</td>\n      <td>62.0</td>\n      <td>84.0</td>\n      <td>84.0</td>\n      <td>96.0</td>\n      <td>88.0</td>\n      <td>...</td>\n      <td>81.0</td>\n      <td>94.0</td>\n      <td>27.0</td>\n      <td>24.0</td>\n      <td>33.0</td>\n      <td>9.0</td>\n      <td>9.0</td>\n      <td>15.0</td>\n      <td>15.0</td>\n      <td>11.0</td>\n    </tr>\n    <tr>\n      <th>3</th>\n      <td>27</td>\n      <td>91</td>\n      <td>93</td>\n      <td>17.0</td>\n      <td>13.0</td>\n      <td>21.0</td>\n      <td>50.0</td>\n      <td>13.0</td>\n      <td>18.0</td>\n      <td>21.0</td>\n      <td>...</td>\n      <td>40.0</td>\n      <td>68.0</td>\n      <td>15.0</td>\n      <td>21.0</td>\n      <td>13.0</td>\n      <td>90.0</td>\n      <td>85.0</td>\n      <td>87.0</td>\n      <td>88.0</td>\n      <td>94.0</td>\n    </tr>\n    <tr>\n      <th>4</th>\n      <td>27</td>\n      <td>91</td>\n      <td>92</td>\n      <td>93.0</td>\n      <td>82.0</td>\n      <td>55.0</td>\n      <td>92.0</td>\n      <td>82.0</td>\n      <td>86.0</td>\n      <td>85.0</td>\n      <td>...</td>\n      <td>79.0</td>\n      <td>88.0</td>\n      <td>68.0</td>\n      <td>58.0</td>\n      <td>51.0</td>\n      <td>15.0</td>\n      <td>13.0</td>\n      <td>5.0</td>\n      <td>10.0</td>\n      <td>13.0</td>\n    </tr>\n  </tbody>\n</table>\n<p>5 rows × 37 columns</p>\n</div>"
     },
     "metadata": {},
     "execution_count": 7
    }
   ],
   "source": [
    "fifa.head()"
   ]
  },
  {
   "cell_type": "code",
   "execution_count": 8,
   "metadata": {},
   "outputs": [],
   "source": [
    "#Criando um dataframe auxliar para analisar a consistencia das variaveis\n",
    "df = pd.DataFrame({'colunas' : fifa.columns,\n",
    "                    'tipo': fifa.dtypes,\n",
    "                    'missing' : fifa.isna().sum(),\n",
    "                    'size' : fifa.shape[0],\n",
    "                    'unicos': fifa.nunique()})\n",
    "df['percentual'] = round(df['missing'] / df['size'],2)"
   ]
  },
  {
   "cell_type": "code",
   "execution_count": 9,
   "metadata": {},
   "outputs": [
    {
     "output_type": "execute_result",
     "data": {
      "text/plain": "                         colunas     tipo  missing   size  unicos  percentual\nAge                          Age    int64        0  18207      29         0.0\nOverall                  Overall    int64        0  18207      48         0.0\nPotential              Potential    int64        0  18207      47         0.0\nCrossing                Crossing  float64       48  18207      89         0.0\nFinishing              Finishing  float64       48  18207      93         0.0\nHeadingAccuracy  HeadingAccuracy  float64       48  18207      91         0.0\nShortPassing        ShortPassing  float64       48  18207      85         0.0\nVolleys                  Volleys  float64       48  18207      87         0.0\nDribbling              Dribbling  float64       48  18207      94         0.0\nCurve                      Curve  float64       48  18207      89         0.0\nFKAccuracy            FKAccuracy  float64       48  18207      90         0.0\nLongPassing          LongPassing  float64       48  18207      84         0.0\nBallControl          BallControl  float64       48  18207      90         0.0\nAcceleration        Acceleration  float64       48  18207      86         0.0\nSprintSpeed          SprintSpeed  float64       48  18207      85         0.0\nAgility                  Agility  float64       48  18207      81         0.0\nReactions              Reactions  float64       48  18207      68         0.0\nBalance                  Balance  float64       48  18207      81         0.0\nShotPower              ShotPower  float64       48  18207      92         0.0\nJumping                  Jumping  float64       48  18207      74         0.0\nStamina                  Stamina  float64       48  18207      85         0.0\nStrength                Strength  float64       48  18207      74         0.0\nLongShots              LongShots  float64       48  18207      92         0.0\nAggression            Aggression  float64       48  18207      85         0.0\nInterceptions      Interceptions  float64       48  18207      89         0.0\nPositioning          Positioning  float64       48  18207      94         0.0\nVision                    Vision  float64       48  18207      85         0.0\nPenalties              Penalties  float64       48  18207      87         0.0\nComposure              Composure  float64       48  18207      84         0.0\nMarking                  Marking  float64       48  18207      92         0.0\nStandingTackle    StandingTackle  float64       48  18207      90         0.0\nSlidingTackle      SlidingTackle  float64       48  18207      88         0.0\nGKDiving                GKDiving  float64       48  18207      71         0.0\nGKHandling            GKHandling  float64       48  18207      70         0.0\nGKKicking              GKKicking  float64       48  18207      79         0.0\nGKPositioning      GKPositioning  float64       48  18207      79         0.0\nGKReflexes            GKReflexes  float64       48  18207      76         0.0",
      "text/html": "<div>\n<style scoped>\n    .dataframe tbody tr th:only-of-type {\n        vertical-align: middle;\n    }\n\n    .dataframe tbody tr th {\n        vertical-align: top;\n    }\n\n    .dataframe thead th {\n        text-align: right;\n    }\n</style>\n<table border=\"1\" class=\"dataframe\">\n  <thead>\n    <tr style=\"text-align: right;\">\n      <th></th>\n      <th>colunas</th>\n      <th>tipo</th>\n      <th>missing</th>\n      <th>size</th>\n      <th>unicos</th>\n      <th>percentual</th>\n    </tr>\n  </thead>\n  <tbody>\n    <tr>\n      <th>Age</th>\n      <td>Age</td>\n      <td>int64</td>\n      <td>0</td>\n      <td>18207</td>\n      <td>29</td>\n      <td>0.0</td>\n    </tr>\n    <tr>\n      <th>Overall</th>\n      <td>Overall</td>\n      <td>int64</td>\n      <td>0</td>\n      <td>18207</td>\n      <td>48</td>\n      <td>0.0</td>\n    </tr>\n    <tr>\n      <th>Potential</th>\n      <td>Potential</td>\n      <td>int64</td>\n      <td>0</td>\n      <td>18207</td>\n      <td>47</td>\n      <td>0.0</td>\n    </tr>\n    <tr>\n      <th>Crossing</th>\n      <td>Crossing</td>\n      <td>float64</td>\n      <td>48</td>\n      <td>18207</td>\n      <td>89</td>\n      <td>0.0</td>\n    </tr>\n    <tr>\n      <th>Finishing</th>\n      <td>Finishing</td>\n      <td>float64</td>\n      <td>48</td>\n      <td>18207</td>\n      <td>93</td>\n      <td>0.0</td>\n    </tr>\n    <tr>\n      <th>HeadingAccuracy</th>\n      <td>HeadingAccuracy</td>\n      <td>float64</td>\n      <td>48</td>\n      <td>18207</td>\n      <td>91</td>\n      <td>0.0</td>\n    </tr>\n    <tr>\n      <th>ShortPassing</th>\n      <td>ShortPassing</td>\n      <td>float64</td>\n      <td>48</td>\n      <td>18207</td>\n      <td>85</td>\n      <td>0.0</td>\n    </tr>\n    <tr>\n      <th>Volleys</th>\n      <td>Volleys</td>\n      <td>float64</td>\n      <td>48</td>\n      <td>18207</td>\n      <td>87</td>\n      <td>0.0</td>\n    </tr>\n    <tr>\n      <th>Dribbling</th>\n      <td>Dribbling</td>\n      <td>float64</td>\n      <td>48</td>\n      <td>18207</td>\n      <td>94</td>\n      <td>0.0</td>\n    </tr>\n    <tr>\n      <th>Curve</th>\n      <td>Curve</td>\n      <td>float64</td>\n      <td>48</td>\n      <td>18207</td>\n      <td>89</td>\n      <td>0.0</td>\n    </tr>\n    <tr>\n      <th>FKAccuracy</th>\n      <td>FKAccuracy</td>\n      <td>float64</td>\n      <td>48</td>\n      <td>18207</td>\n      <td>90</td>\n      <td>0.0</td>\n    </tr>\n    <tr>\n      <th>LongPassing</th>\n      <td>LongPassing</td>\n      <td>float64</td>\n      <td>48</td>\n      <td>18207</td>\n      <td>84</td>\n      <td>0.0</td>\n    </tr>\n    <tr>\n      <th>BallControl</th>\n      <td>BallControl</td>\n      <td>float64</td>\n      <td>48</td>\n      <td>18207</td>\n      <td>90</td>\n      <td>0.0</td>\n    </tr>\n    <tr>\n      <th>Acceleration</th>\n      <td>Acceleration</td>\n      <td>float64</td>\n      <td>48</td>\n      <td>18207</td>\n      <td>86</td>\n      <td>0.0</td>\n    </tr>\n    <tr>\n      <th>SprintSpeed</th>\n      <td>SprintSpeed</td>\n      <td>float64</td>\n      <td>48</td>\n      <td>18207</td>\n      <td>85</td>\n      <td>0.0</td>\n    </tr>\n    <tr>\n      <th>Agility</th>\n      <td>Agility</td>\n      <td>float64</td>\n      <td>48</td>\n      <td>18207</td>\n      <td>81</td>\n      <td>0.0</td>\n    </tr>\n    <tr>\n      <th>Reactions</th>\n      <td>Reactions</td>\n      <td>float64</td>\n      <td>48</td>\n      <td>18207</td>\n      <td>68</td>\n      <td>0.0</td>\n    </tr>\n    <tr>\n      <th>Balance</th>\n      <td>Balance</td>\n      <td>float64</td>\n      <td>48</td>\n      <td>18207</td>\n      <td>81</td>\n      <td>0.0</td>\n    </tr>\n    <tr>\n      <th>ShotPower</th>\n      <td>ShotPower</td>\n      <td>float64</td>\n      <td>48</td>\n      <td>18207</td>\n      <td>92</td>\n      <td>0.0</td>\n    </tr>\n    <tr>\n      <th>Jumping</th>\n      <td>Jumping</td>\n      <td>float64</td>\n      <td>48</td>\n      <td>18207</td>\n      <td>74</td>\n      <td>0.0</td>\n    </tr>\n    <tr>\n      <th>Stamina</th>\n      <td>Stamina</td>\n      <td>float64</td>\n      <td>48</td>\n      <td>18207</td>\n      <td>85</td>\n      <td>0.0</td>\n    </tr>\n    <tr>\n      <th>Strength</th>\n      <td>Strength</td>\n      <td>float64</td>\n      <td>48</td>\n      <td>18207</td>\n      <td>74</td>\n      <td>0.0</td>\n    </tr>\n    <tr>\n      <th>LongShots</th>\n      <td>LongShots</td>\n      <td>float64</td>\n      <td>48</td>\n      <td>18207</td>\n      <td>92</td>\n      <td>0.0</td>\n    </tr>\n    <tr>\n      <th>Aggression</th>\n      <td>Aggression</td>\n      <td>float64</td>\n      <td>48</td>\n      <td>18207</td>\n      <td>85</td>\n      <td>0.0</td>\n    </tr>\n    <tr>\n      <th>Interceptions</th>\n      <td>Interceptions</td>\n      <td>float64</td>\n      <td>48</td>\n      <td>18207</td>\n      <td>89</td>\n      <td>0.0</td>\n    </tr>\n    <tr>\n      <th>Positioning</th>\n      <td>Positioning</td>\n      <td>float64</td>\n      <td>48</td>\n      <td>18207</td>\n      <td>94</td>\n      <td>0.0</td>\n    </tr>\n    <tr>\n      <th>Vision</th>\n      <td>Vision</td>\n      <td>float64</td>\n      <td>48</td>\n      <td>18207</td>\n      <td>85</td>\n      <td>0.0</td>\n    </tr>\n    <tr>\n      <th>Penalties</th>\n      <td>Penalties</td>\n      <td>float64</td>\n      <td>48</td>\n      <td>18207</td>\n      <td>87</td>\n      <td>0.0</td>\n    </tr>\n    <tr>\n      <th>Composure</th>\n      <td>Composure</td>\n      <td>float64</td>\n      <td>48</td>\n      <td>18207</td>\n      <td>84</td>\n      <td>0.0</td>\n    </tr>\n    <tr>\n      <th>Marking</th>\n      <td>Marking</td>\n      <td>float64</td>\n      <td>48</td>\n      <td>18207</td>\n      <td>92</td>\n      <td>0.0</td>\n    </tr>\n    <tr>\n      <th>StandingTackle</th>\n      <td>StandingTackle</td>\n      <td>float64</td>\n      <td>48</td>\n      <td>18207</td>\n      <td>90</td>\n      <td>0.0</td>\n    </tr>\n    <tr>\n      <th>SlidingTackle</th>\n      <td>SlidingTackle</td>\n      <td>float64</td>\n      <td>48</td>\n      <td>18207</td>\n      <td>88</td>\n      <td>0.0</td>\n    </tr>\n    <tr>\n      <th>GKDiving</th>\n      <td>GKDiving</td>\n      <td>float64</td>\n      <td>48</td>\n      <td>18207</td>\n      <td>71</td>\n      <td>0.0</td>\n    </tr>\n    <tr>\n      <th>GKHandling</th>\n      <td>GKHandling</td>\n      <td>float64</td>\n      <td>48</td>\n      <td>18207</td>\n      <td>70</td>\n      <td>0.0</td>\n    </tr>\n    <tr>\n      <th>GKKicking</th>\n      <td>GKKicking</td>\n      <td>float64</td>\n      <td>48</td>\n      <td>18207</td>\n      <td>79</td>\n      <td>0.0</td>\n    </tr>\n    <tr>\n      <th>GKPositioning</th>\n      <td>GKPositioning</td>\n      <td>float64</td>\n      <td>48</td>\n      <td>18207</td>\n      <td>79</td>\n      <td>0.0</td>\n    </tr>\n    <tr>\n      <th>GKReflexes</th>\n      <td>GKReflexes</td>\n      <td>float64</td>\n      <td>48</td>\n      <td>18207</td>\n      <td>76</td>\n      <td>0.0</td>\n    </tr>\n  </tbody>\n</table>\n</div>"
     },
     "metadata": {},
     "execution_count": 9
    }
   ],
   "source": [
    "df"
   ]
  },
  {
   "cell_type": "code",
   "execution_count": 10,
   "metadata": {},
   "outputs": [],
   "source": [
    "# Dropar valores nulos pois são poucos!\n",
    "fifa.dropna(inplace=True)"
   ]
  },
  {
   "cell_type": "code",
   "execution_count": 11,
   "metadata": {},
   "outputs": [
    {
     "output_type": "execute_result",
     "data": {
      "text/plain": "(18159, 37)"
     },
     "metadata": {},
     "execution_count": 11
    }
   ],
   "source": [
    "fifa.shape"
   ]
  },
  {
   "cell_type": "markdown",
   "metadata": {},
   "source": [
    "## Exercicio 01"
   ]
  },
  {
   "cell_type": "code",
   "execution_count": 12,
   "metadata": {},
   "outputs": [],
   "source": [
    "#instanciando PCA na variável pca.\n",
    "pca = PCA()"
   ]
  },
  {
   "cell_type": "code",
   "execution_count": 13,
   "metadata": {},
   "outputs": [
    {
     "output_type": "execute_result",
     "data": {
      "text/plain": "PCA()"
     },
     "metadata": {},
     "execution_count": 13
    }
   ],
   "source": [
    "# Treinando meu dataframe\n",
    "pca.fit(fifa)"
   ]
  },
  {
   "cell_type": "code",
   "execution_count": 14,
   "metadata": {},
   "outputs": [],
   "source": [
    "evr = pca.explained_variance_ratio_"
   ]
  },
  {
   "cell_type": "code",
   "execution_count": 15,
   "metadata": {},
   "outputs": [
    {
     "output_type": "execute_result",
     "data": {
      "text/plain": "array([5.65280555e-01, 1.81025219e-01, 5.95283391e-02, 4.34269284e-02,\n       2.63532326e-02, 1.20707695e-02, 1.03550495e-02, 8.52951131e-03,\n       7.87862979e-03, 7.20416677e-03, 7.18180297e-03, 6.32893542e-03,\n       5.19242286e-03, 4.90798293e-03, 4.74209042e-03, 4.62772008e-03,\n       4.25173246e-03, 3.86288432e-03, 3.76588448e-03, 3.75092615e-03,\n       3.47815213e-03, 3.26730709e-03, 3.03137944e-03, 2.97415845e-03,\n       2.56797543e-03, 2.30353342e-03, 2.14815132e-03, 1.56135904e-03,\n       1.55351696e-03, 1.08664227e-03, 1.06824189e-03, 1.05891525e-03,\n       9.58143746e-04, 8.89209394e-04, 8.59732430e-04, 7.34611045e-04,\n       1.94187517e-04])"
     },
     "metadata": {},
     "execution_count": 15
    }
   ],
   "source": [
    "evr"
   ]
  },
  {
   "cell_type": "code",
   "execution_count": 16,
   "metadata": {},
   "outputs": [
    {
     "output_type": "execute_result",
     "data": {
      "text/plain": "0.5652805550008518"
     },
     "metadata": {},
     "execution_count": 16
    }
   ],
   "source": [
    "evr[0]"
   ]
  },
  {
   "cell_type": "markdown",
   "metadata": {},
   "source": [
    "## Exercicio 02"
   ]
  },
  {
   "cell_type": "code",
   "execution_count": 17,
   "metadata": {},
   "outputs": [
    {
     "output_type": "execute_result",
     "data": {
      "text/plain": "15"
     },
     "metadata": {},
     "execution_count": 17
    }
   ],
   "source": [
    "cumulative_variance_ratio = np.cumsum(pca.explained_variance_ratio_)\n",
    "component_number = np.argmax(cumulative_variance_ratio >= 0.95) + 1 # Contagem começa em zero.\n",
    "\n",
    "component_number"
   ]
  },
  {
   "cell_type": "code",
   "execution_count": 18,
   "metadata": {},
   "outputs": [],
   "source": [
    "evr_acumulado = np.cumsum(evr)"
   ]
  },
  {
   "cell_type": "code",
   "execution_count": 19,
   "metadata": {},
   "outputs": [],
   "source": [
    "num_features = np.argmax(evr_acumulado >= 0.95) + 1 # Contagem começa em zero."
   ]
  },
  {
   "cell_type": "code",
   "execution_count": 20,
   "metadata": {},
   "outputs": [
    {
     "output_type": "execute_result",
     "data": {
      "text/plain": "15"
     },
     "metadata": {},
     "execution_count": 20
    }
   ],
   "source": [
    "num_features"
   ]
  },
  {
   "cell_type": "markdown",
   "metadata": {},
   "source": [
    "## Exercicio 03"
   ]
  },
  {
   "cell_type": "code",
   "execution_count": 21,
   "metadata": {},
   "outputs": [],
   "source": [
    "# definindo objeto PCA com PC1 e PC2\n",
    "pca_componentes = PCA(n_components=2)"
   ]
  },
  {
   "cell_type": "code",
   "execution_count": 22,
   "metadata": {},
   "outputs": [
    {
     "output_type": "execute_result",
     "data": {
      "text/plain": "PCA(n_components=2)"
     },
     "metadata": {},
     "execution_count": 22
    }
   ],
   "source": [
    "#passo os dados (dataframe) para o objeto de pca para reduzir\n",
    "pca_componentes.fit(fifa)"
   ]
  },
  {
   "cell_type": "code",
   "execution_count": 23,
   "metadata": {},
   "outputs": [],
   "source": [
    "#PC = pca_componentes.components_.dot(x)"
   ]
  },
  {
   "cell_type": "code",
   "execution_count": 24,
   "metadata": {},
   "outputs": [],
   "source": [
    "#tuple(PC.round(3))"
   ]
  },
  {
   "cell_type": "markdown",
   "metadata": {},
   "source": [
    "## Exercicio 04"
   ]
  },
  {
   "cell_type": "code",
   "execution_count": 25,
   "metadata": {},
   "outputs": [],
   "source": [
    "#Separando a variavel target e as labels\n",
    "target = fifa['Overall']\n",
    "label = fifa.drop(['Overall'],axis=1)"
   ]
  },
  {
   "cell_type": "code",
   "execution_count": 39,
   "metadata": {},
   "outputs": [],
   "source": [
    "# Criando um modelo de regressao linear\n",
    "lr = LinearRegression()"
   ]
  },
  {
   "cell_type": "code",
   "execution_count": 40,
   "metadata": {},
   "outputs": [],
   "source": [
    "# Criando um RFE para selecionar as n_features melhores para o modelo\n",
    "rfe = RFE(lr, n_features_to_select=5, step=1)"
   ]
  },
  {
   "cell_type": "code",
   "execution_count": 41,
   "metadata": {},
   "outputs": [],
   "source": [
    "# Fittando o modelo com os dados de X,y\n",
    "rfe = selector.fit(label, target)"
   ]
  },
  {
   "cell_type": "code",
   "execution_count": 42,
   "metadata": {},
   "outputs": [],
   "source": [
    "rfe_suport = rfe.get_support()"
   ]
  },
  {
   "cell_type": "code",
   "execution_count": 43,
   "metadata": {},
   "outputs": [
    {
     "output_type": "execute_result",
     "data": {
      "text/plain": "array([ True,  True, False, False, False, False, False, False, False,\n       False, False,  True, False, False, False,  True, False, False,\n       False, False, False, False, False, False, False, False, False,\n       False, False, False, False, False, False, False, False,  True])"
     },
     "metadata": {},
     "execution_count": 43
    }
   ],
   "source": [
    "rfe_suport"
   ]
  },
  {
   "cell_type": "code",
   "execution_count": 46,
   "metadata": {},
   "outputs": [
    {
     "output_type": "stream",
     "name": "stdout",
     "text": "['Age', 'Overall', 'LongPassing', 'Agility', 'GKPositioning']\n"
    }
   ],
   "source": [
    "# Com esse print você consegue a lista das variáveis sem ser em true ou false.\n",
    "print(fifa.loc[:, rfe_suport].columns.tolist())  "
   ]
  },
  {
   "cell_type": "code",
   "execution_count": 31,
   "metadata": {},
   "outputs": [
    {
     "output_type": "execute_result",
     "data": {
      "text/plain": "['Age', 'Potential', 'BallControl', 'Reactions', 'GKReflexes']"
     },
     "metadata": {},
     "execution_count": 31
    }
   ],
   "source": [
    "list(label.columns[selector.support_])"
   ]
  },
  {
   "cell_type": "markdown",
   "metadata": {},
   "source": [
    "## Questão 1\n",
    "\n",
    "Qual fração da variância consegue ser explicada pelo primeiro componente principal de `fifa`? Responda como um único float (entre 0 e 1) arredondado para três casas decimais."
   ]
  },
  {
   "cell_type": "code",
   "execution_count": 32,
   "metadata": {},
   "outputs": [],
   "source": [
    "def q1():\n",
    "    # Retorne aqui o resultado da questão 1.\n",
    "\n",
    "    # instanciando PCA na variável pca.\n",
    "    pca = PCA() \n",
    "    # passo os dados (dataframe) para o objeto de pca para reduzir\n",
    "    pca.fit(fifa)\n",
    "    # extraindo variancia explicada\n",
    "    evr = pca.explained_variance_ratio_\n",
    "    return float (round(evr[0],3))"
   ]
  },
  {
   "cell_type": "markdown",
   "metadata": {},
   "source": [
    "## Questão 2\n",
    "\n",
    "Quantos componentes principais precisamos para explicar 95% da variância total? Responda como un único escalar inteiro."
   ]
  },
  {
   "cell_type": "code",
   "execution_count": 33,
   "metadata": {},
   "outputs": [],
   "source": [
    "def q2():\n",
    "    # Retorne aqui o resultado da questão 2.\n",
    "    \n",
    "    # Descobrindo o EVR acumulado\n",
    "    evr_acumulado = np.cumsum(evr)\n",
    "    # Qual o máximo acumulado antes ou igual a 0.95 (95% da variancia total)\n",
    "    num_features = np.argmax(evr_acumulado >= 0.95) + 1 # Contagem começa em zero, portanto -> +1.\n",
    "    return int (num_features)"
   ]
  },
  {
   "cell_type": "markdown",
   "metadata": {},
   "source": [
    "## Questão 3\n",
    "\n",
    "Qual são as coordenadas (primeiro e segundo componentes principais) do ponto `x` abaixo? O vetor abaixo já está centralizado. Cuidado para __não__ centralizar o vetor novamente (por exemplo, invocando `PCA.transform()` nele). Responda como uma tupla de float arredondados para três casas decimais."
   ]
  },
  {
   "cell_type": "code",
   "execution_count": 34,
   "metadata": {},
   "outputs": [],
   "source": [
    "x = [0.87747123,  -1.24990363,  -1.3191255, -36.7341814,\n",
    "     -35.55091139, -37.29814417, -28.68671182, -30.90902583,\n",
    "     -42.37100061, -32.17082438, -28.86315326, -22.71193348,\n",
    "     -38.36945867, -20.61407566, -22.72696734, -25.50360703,\n",
    "     2.16339005, -27.96657305, -33.46004736,  -5.08943224,\n",
    "     -30.21994603,   3.68803348, -36.10997302, -30.86899058,\n",
    "     -22.69827634, -37.95847789, -22.40090313, -30.54859849,\n",
    "     -26.64827358, -19.28162344, -34.69783578, -34.6614351,\n",
    "     48.38377664,  47.60840355,  45.76793876,  44.61110193,\n",
    "     49.28911284\n",
    "]"
   ]
  },
  {
   "cell_type": "code",
   "execution_count": 35,
   "metadata": {},
   "outputs": [],
   "source": [
    "def q3():\n",
    "    # Retorne aqui o resultado da questão 3.\n",
    "\n",
    "    # definindo objeto PCA com PC1 e PC2\n",
    "    pca_components = PCA(n_components=2)\n",
    "    # passo os dados (dataframe) para o objeto de pca para reduzir\n",
    "    pca_components.fit(fifa)\n",
    "    # componentes principais\n",
    "    PCs = pca_components.components_.dot(x)\n",
    "    return tuple(PCs.round(3))"
   ]
  },
  {
   "cell_type": "markdown",
   "metadata": {},
   "source": [
    "## Questão 4\n",
    "\n",
    "Realiza RFE com estimador de regressão linear para selecionar cinco variáveis, eliminando uma a uma. Quais são as variáveis selecionadas? Responda como uma lista de nomes de variáveis."
   ]
  },
  {
   "cell_type": "code",
   "execution_count": 36,
   "metadata": {},
   "outputs": [],
   "source": [
    "def q4():\n",
    "    # Retorne aqui o resultado da questão 4.\n",
    "\n",
    "    #Separando a variavel target e as labels\n",
    "    target = fifa['Overall']\n",
    "    label = fifa.drop(['Overall'],axis=1)\n",
    "    # Criando um modelo de regressao linear\n",
    "    lr = LinearRegression()\n",
    "    # Criando um RFE para selecionar as n_features melhores para o modelo\n",
    "    selector = RFE(lr, n_features_to_select=5, step=1)\n",
    "    # Fittando o modelo com os dados de X,y\n",
    "    selector = selector.fit(label, target)\n",
    "    return list(label.columns[selector.support_])"
   ]
  }
 ],
 "metadata": {
  "kernelspec": {
   "display_name": "Python 3.7.3 64-bit ('venv': virtualenv)",
   "language": "python",
   "name": "python37364bitvenvvirtualenvd50b530071a743c49acd9bede79cb8f0"
  },
  "language_info": {
   "codemirror_mode": {
    "name": "ipython",
    "version": 3
   },
   "file_extension": ".py",
   "mimetype": "text/x-python",
   "name": "python",
   "nbconvert_exporter": "python",
   "pygments_lexer": "ipython3",
   "version": "3.7.3-final"
  }
 },
 "nbformat": 4,
 "nbformat_minor": 2
}