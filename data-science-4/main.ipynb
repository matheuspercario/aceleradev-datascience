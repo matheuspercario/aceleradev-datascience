{
 "cells": [
  {
   "cell_type": "markdown",
   "metadata": {},
   "source": [
    "# Desafio 6\n",
    "\n",
    "Neste desafio, vamos praticar _feature engineering_, um dos processos mais importantes e trabalhosos de ML. Utilizaremos o _data set_ [Countries of the world](https://www.kaggle.com/fernandol/countries-of-the-world), que contém dados sobre os 227 países do mundo com informações sobre tamanho da população, área, imigração e setores de produção.\n",
    "\n",
    "> Obs.: Por favor, não modifique o nome das funções de resposta."
   ]
  },
  {
   "cell_type": "markdown",
   "metadata": {},
   "source": [
    "## _Setup_ geral"
   ]
  },
  {
   "cell_type": "code",
   "execution_count": 2,
   "metadata": {},
   "outputs": [],
   "source": [
    "import pandas as pd\n",
    "import numpy as np\n",
    "import seaborn as sns\n",
    "import sklearn as sk\n",
    "\n",
    "from sklearn.datasets import load_digits, fetch_20newsgroups\n",
    "from sklearn.feature_extraction.text import (CountVectorizer, TfidfVectorizer)\n",
    "from sklearn.impute import SimpleImputer\n",
    "from sklearn.pipeline import Pipeline\n",
    "from sklearn.preprocessing import (OneHotEncoder, KBinsDiscretizer, StandardScaler)"
   ]
  },
  {
   "cell_type": "code",
   "execution_count": 3,
   "metadata": {},
   "outputs": [],
   "source": [
    "# Algumas configurações para o matplotlib.\n",
    "#%matplotlib inline\n",
    "\n",
    "from IPython.core.pylabtools import figsize\n",
    "\n",
    "\n",
    "figsize(12, 8)\n",
    "\n",
    "sns.set()"
   ]
  },
  {
   "cell_type": "code",
   "execution_count": 4,
   "metadata": {
    "scrolled": false
   },
   "outputs": [],
   "source": [
    "countries = pd.read_csv(\"countries.csv\", thousands='.', decimal=',')"
   ]
  },
  {
   "cell_type": "code",
   "execution_count": 5,
   "metadata": {},
   "outputs": [
    {
     "output_type": "execute_result",
     "data": {
      "text/plain": "           Country                               Region  Population     Area  \\\n0     Afghanistan         ASIA (EX. NEAR EAST)             31056997   647500   \n1         Albania   EASTERN EUROPE                          3581655    28748   \n2         Algeria   NORTHERN AFRICA                        32930091  2381740   \n3  American Samoa   OCEANIA                                   57794      199   \n4         Andorra   WESTERN EUROPE                            71201      468   \n\n   Pop_density  Coastline_ratio  Net_migration  Infant_mortality      GDP  \\\n0         48.0             0.00          23.06            163.07    700.0   \n1        124.6             1.26          -4.93             21.52   4500.0   \n2         13.8             0.04          -0.39             31.00   6000.0   \n3        290.4            58.29         -20.71              9.27   8000.0   \n4        152.1             0.00           6.60              4.05  19000.0   \n\n   Literacy  Phones_per_1000  Arable  Crops  Other  Climate  Birthrate  \\\n0      36.0              3.2   12.13   0.22  87.65      1.0      46.60   \n1      86.5             71.2   21.09   4.42  74.49      3.0      15.11   \n2      70.0             78.1    3.22   0.25  96.53      1.0      17.14   \n3      97.0            259.5   10.00  15.00  75.00      2.0      22.46   \n4     100.0            497.2    2.22   0.00  97.78      3.0       8.71   \n\n   Deathrate  Agriculture  Industry  Service  \n0      20.34        0.380     0.240    0.380  \n1       5.22        0.232     0.188    0.579  \n2       4.61        0.101     0.600    0.298  \n3       3.27          NaN       NaN      NaN  \n4       6.25          NaN       NaN      NaN  ",
      "text/html": "<div>\n<style scoped>\n    .dataframe tbody tr th:only-of-type {\n        vertical-align: middle;\n    }\n\n    .dataframe tbody tr th {\n        vertical-align: top;\n    }\n\n    .dataframe thead th {\n        text-align: right;\n    }\n</style>\n<table border=\"1\" class=\"dataframe\">\n  <thead>\n    <tr style=\"text-align: right;\">\n      <th></th>\n      <th>Country</th>\n      <th>Region</th>\n      <th>Population</th>\n      <th>Area</th>\n      <th>Pop_density</th>\n      <th>Coastline_ratio</th>\n      <th>Net_migration</th>\n      <th>Infant_mortality</th>\n      <th>GDP</th>\n      <th>Literacy</th>\n      <th>Phones_per_1000</th>\n      <th>Arable</th>\n      <th>Crops</th>\n      <th>Other</th>\n      <th>Climate</th>\n      <th>Birthrate</th>\n      <th>Deathrate</th>\n      <th>Agriculture</th>\n      <th>Industry</th>\n      <th>Service</th>\n    </tr>\n  </thead>\n  <tbody>\n    <tr>\n      <th>0</th>\n      <td>Afghanistan</td>\n      <td>ASIA (EX. NEAR EAST)</td>\n      <td>31056997</td>\n      <td>647500</td>\n      <td>48.0</td>\n      <td>0.00</td>\n      <td>23.06</td>\n      <td>163.07</td>\n      <td>700.0</td>\n      <td>36.0</td>\n      <td>3.2</td>\n      <td>12.13</td>\n      <td>0.22</td>\n      <td>87.65</td>\n      <td>1.0</td>\n      <td>46.60</td>\n      <td>20.34</td>\n      <td>0.380</td>\n      <td>0.240</td>\n      <td>0.380</td>\n    </tr>\n    <tr>\n      <th>1</th>\n      <td>Albania</td>\n      <td>EASTERN EUROPE</td>\n      <td>3581655</td>\n      <td>28748</td>\n      <td>124.6</td>\n      <td>1.26</td>\n      <td>-4.93</td>\n      <td>21.52</td>\n      <td>4500.0</td>\n      <td>86.5</td>\n      <td>71.2</td>\n      <td>21.09</td>\n      <td>4.42</td>\n      <td>74.49</td>\n      <td>3.0</td>\n      <td>15.11</td>\n      <td>5.22</td>\n      <td>0.232</td>\n      <td>0.188</td>\n      <td>0.579</td>\n    </tr>\n    <tr>\n      <th>2</th>\n      <td>Algeria</td>\n      <td>NORTHERN AFRICA</td>\n      <td>32930091</td>\n      <td>2381740</td>\n      <td>13.8</td>\n      <td>0.04</td>\n      <td>-0.39</td>\n      <td>31.00</td>\n      <td>6000.0</td>\n      <td>70.0</td>\n      <td>78.1</td>\n      <td>3.22</td>\n      <td>0.25</td>\n      <td>96.53</td>\n      <td>1.0</td>\n      <td>17.14</td>\n      <td>4.61</td>\n      <td>0.101</td>\n      <td>0.600</td>\n      <td>0.298</td>\n    </tr>\n    <tr>\n      <th>3</th>\n      <td>American Samoa</td>\n      <td>OCEANIA</td>\n      <td>57794</td>\n      <td>199</td>\n      <td>290.4</td>\n      <td>58.29</td>\n      <td>-20.71</td>\n      <td>9.27</td>\n      <td>8000.0</td>\n      <td>97.0</td>\n      <td>259.5</td>\n      <td>10.00</td>\n      <td>15.00</td>\n      <td>75.00</td>\n      <td>2.0</td>\n      <td>22.46</td>\n      <td>3.27</td>\n      <td>NaN</td>\n      <td>NaN</td>\n      <td>NaN</td>\n    </tr>\n    <tr>\n      <th>4</th>\n      <td>Andorra</td>\n      <td>WESTERN EUROPE</td>\n      <td>71201</td>\n      <td>468</td>\n      <td>152.1</td>\n      <td>0.00</td>\n      <td>6.60</td>\n      <td>4.05</td>\n      <td>19000.0</td>\n      <td>100.0</td>\n      <td>497.2</td>\n      <td>2.22</td>\n      <td>0.00</td>\n      <td>97.78</td>\n      <td>3.0</td>\n      <td>8.71</td>\n      <td>6.25</td>\n      <td>NaN</td>\n      <td>NaN</td>\n      <td>NaN</td>\n    </tr>\n  </tbody>\n</table>\n</div>"
     },
     "metadata": {},
     "execution_count": 5
    }
   ],
   "source": [
    "new_column_names = [\n",
    "    \"Country\", \"Region\", \"Population\", \"Area\", \"Pop_density\", \"Coastline_ratio\",\n",
    "    \"Net_migration\", \"Infant_mortality\", \"GDP\", \"Literacy\", \"Phones_per_1000\",\n",
    "    \"Arable\", \"Crops\", \"Other\", \"Climate\", \"Birthrate\", \"Deathrate\", \"Agriculture\",\n",
    "    \"Industry\", \"Service\"\n",
    "]\n",
    "\n",
    "countries.columns = new_column_names\n",
    "\n",
    "countries.head(5)"
   ]
  },
  {
   "cell_type": "code",
   "execution_count": 6,
   "metadata": {},
   "outputs": [
    {
     "output_type": "execute_result",
     "data": {
      "text/plain": "(227, 20)"
     },
     "metadata": {},
     "execution_count": 6
    }
   ],
   "source": [
    "countries.shape"
   ]
  },
  {
   "cell_type": "markdown",
   "metadata": {},
   "source": [
    "## Observações\n",
    "\n",
    "Esse _data set_ ainda precisa de alguns ajustes iniciais. Primeiro, note que as variáveis numéricas estão usando vírgula como separador decimal e estão codificadas como strings. Corrija isso antes de continuar: transforme essas variáveis em numéricas adequadamente.\n",
    "\n",
    "Além disso, as variáveis `Country` e `Region` possuem espaços a mais no começo e no final da string. Você pode utilizar o método `str.strip()` para remover esses espaços."
   ]
  },
  {
   "cell_type": "markdown",
   "metadata": {},
   "source": [
    "## Inicia sua análise a partir daqui"
   ]
  },
  {
   "cell_type": "code",
   "execution_count": 7,
   "metadata": {},
   "outputs": [],
   "source": [
    "# Sua análise começa aqui."
   ]
  },
  {
   "cell_type": "code",
   "execution_count": 8,
   "metadata": {},
   "outputs": [],
   "source": [
    "df = pd.DataFrame({ 'colunas' : countries.columns,\n",
    "                    'tipos' : countries.dtypes,\n",
    "                    'missing' : countries.isna().sum(),\n",
    "                    'size' : countries.shape[0],\n",
    "                    'unicos' : countries.nunique()}\n",
    "                 )\n",
    "df['missing_perc'] = (df['missing'] / df['size']).round(2)"
   ]
  },
  {
   "cell_type": "code",
   "execution_count": 9,
   "metadata": {},
   "outputs": [
    {
     "output_type": "execute_result",
     "data": {
      "text/plain": "                           colunas    tipos  missing  size  unicos  \\\nCountry                    Country   object        0   227     227   \nRegion                      Region   object        0   227      11   \nPopulation              Population    int64        0   227     227   \nArea                          Area    int64        0   227     226   \nPop_density            Pop_density  float64        0   227     219   \nCoastline_ratio    Coastline_ratio  float64        0   227     151   \nNet_migration        Net_migration  float64        3   227     157   \nInfant_mortality  Infant_mortality  float64        3   227     220   \nGDP                            GDP  float64        1   227     130   \nLiteracy                  Literacy  float64       18   227     140   \nPhones_per_1000    Phones_per_1000  float64        4   227     214   \nArable                      Arable  float64        2   227     203   \nCrops                        Crops  float64        2   227     162   \nOther                        Other  float64        2   227     209   \nClimate                    Climate  float64       22   227       6   \nBirthrate                Birthrate  float64        3   227     220   \nDeathrate                Deathrate  float64        4   227     201   \nAgriculture            Agriculture  float64       15   227     150   \nIndustry                  Industry  float64       16   227     155   \nService                    Service  float64       15   227     167   \n\n                  missing_perc  \nCountry                   0.00  \nRegion                    0.00  \nPopulation                0.00  \nArea                      0.00  \nPop_density               0.00  \nCoastline_ratio           0.00  \nNet_migration             0.01  \nInfant_mortality          0.01  \nGDP                       0.00  \nLiteracy                  0.08  \nPhones_per_1000           0.02  \nArable                    0.01  \nCrops                     0.01  \nOther                     0.01  \nClimate                   0.10  \nBirthrate                 0.01  \nDeathrate                 0.02  \nAgriculture               0.07  \nIndustry                  0.07  \nService                   0.07  ",
      "text/html": "<div>\n<style scoped>\n    .dataframe tbody tr th:only-of-type {\n        vertical-align: middle;\n    }\n\n    .dataframe tbody tr th {\n        vertical-align: top;\n    }\n\n    .dataframe thead th {\n        text-align: right;\n    }\n</style>\n<table border=\"1\" class=\"dataframe\">\n  <thead>\n    <tr style=\"text-align: right;\">\n      <th></th>\n      <th>colunas</th>\n      <th>tipos</th>\n      <th>missing</th>\n      <th>size</th>\n      <th>unicos</th>\n      <th>missing_perc</th>\n    </tr>\n  </thead>\n  <tbody>\n    <tr>\n      <th>Country</th>\n      <td>Country</td>\n      <td>object</td>\n      <td>0</td>\n      <td>227</td>\n      <td>227</td>\n      <td>0.00</td>\n    </tr>\n    <tr>\n      <th>Region</th>\n      <td>Region</td>\n      <td>object</td>\n      <td>0</td>\n      <td>227</td>\n      <td>11</td>\n      <td>0.00</td>\n    </tr>\n    <tr>\n      <th>Population</th>\n      <td>Population</td>\n      <td>int64</td>\n      <td>0</td>\n      <td>227</td>\n      <td>227</td>\n      <td>0.00</td>\n    </tr>\n    <tr>\n      <th>Area</th>\n      <td>Area</td>\n      <td>int64</td>\n      <td>0</td>\n      <td>227</td>\n      <td>226</td>\n      <td>0.00</td>\n    </tr>\n    <tr>\n      <th>Pop_density</th>\n      <td>Pop_density</td>\n      <td>float64</td>\n      <td>0</td>\n      <td>227</td>\n      <td>219</td>\n      <td>0.00</td>\n    </tr>\n    <tr>\n      <th>Coastline_ratio</th>\n      <td>Coastline_ratio</td>\n      <td>float64</td>\n      <td>0</td>\n      <td>227</td>\n      <td>151</td>\n      <td>0.00</td>\n    </tr>\n    <tr>\n      <th>Net_migration</th>\n      <td>Net_migration</td>\n      <td>float64</td>\n      <td>3</td>\n      <td>227</td>\n      <td>157</td>\n      <td>0.01</td>\n    </tr>\n    <tr>\n      <th>Infant_mortality</th>\n      <td>Infant_mortality</td>\n      <td>float64</td>\n      <td>3</td>\n      <td>227</td>\n      <td>220</td>\n      <td>0.01</td>\n    </tr>\n    <tr>\n      <th>GDP</th>\n      <td>GDP</td>\n      <td>float64</td>\n      <td>1</td>\n      <td>227</td>\n      <td>130</td>\n      <td>0.00</td>\n    </tr>\n    <tr>\n      <th>Literacy</th>\n      <td>Literacy</td>\n      <td>float64</td>\n      <td>18</td>\n      <td>227</td>\n      <td>140</td>\n      <td>0.08</td>\n    </tr>\n    <tr>\n      <th>Phones_per_1000</th>\n      <td>Phones_per_1000</td>\n      <td>float64</td>\n      <td>4</td>\n      <td>227</td>\n      <td>214</td>\n      <td>0.02</td>\n    </tr>\n    <tr>\n      <th>Arable</th>\n      <td>Arable</td>\n      <td>float64</td>\n      <td>2</td>\n      <td>227</td>\n      <td>203</td>\n      <td>0.01</td>\n    </tr>\n    <tr>\n      <th>Crops</th>\n      <td>Crops</td>\n      <td>float64</td>\n      <td>2</td>\n      <td>227</td>\n      <td>162</td>\n      <td>0.01</td>\n    </tr>\n    <tr>\n      <th>Other</th>\n      <td>Other</td>\n      <td>float64</td>\n      <td>2</td>\n      <td>227</td>\n      <td>209</td>\n      <td>0.01</td>\n    </tr>\n    <tr>\n      <th>Climate</th>\n      <td>Climate</td>\n      <td>float64</td>\n      <td>22</td>\n      <td>227</td>\n      <td>6</td>\n      <td>0.10</td>\n    </tr>\n    <tr>\n      <th>Birthrate</th>\n      <td>Birthrate</td>\n      <td>float64</td>\n      <td>3</td>\n      <td>227</td>\n      <td>220</td>\n      <td>0.01</td>\n    </tr>\n    <tr>\n      <th>Deathrate</th>\n      <td>Deathrate</td>\n      <td>float64</td>\n      <td>4</td>\n      <td>227</td>\n      <td>201</td>\n      <td>0.02</td>\n    </tr>\n    <tr>\n      <th>Agriculture</th>\n      <td>Agriculture</td>\n      <td>float64</td>\n      <td>15</td>\n      <td>227</td>\n      <td>150</td>\n      <td>0.07</td>\n    </tr>\n    <tr>\n      <th>Industry</th>\n      <td>Industry</td>\n      <td>float64</td>\n      <td>16</td>\n      <td>227</td>\n      <td>155</td>\n      <td>0.07</td>\n    </tr>\n    <tr>\n      <th>Service</th>\n      <td>Service</td>\n      <td>float64</td>\n      <td>15</td>\n      <td>227</td>\n      <td>167</td>\n      <td>0.07</td>\n    </tr>\n  </tbody>\n</table>\n</div>"
     },
     "metadata": {},
     "execution_count": 9
    }
   ],
   "source": [
    "df"
   ]
  },
  {
   "cell_type": "code",
   "execution_count": 10,
   "metadata": {},
   "outputs": [],
   "source": [
    "# Maximo é 10% de valor faltante, creio que pode-se dropar NAs\n",
    "#df_countries = countries.dropna()"
   ]
  },
  {
   "cell_type": "code",
   "execution_count": 11,
   "metadata": {},
   "outputs": [],
   "source": [
    "# Copiar dataframe para nao fazer cagada\n",
    "df_countries = countries.copy()"
   ]
  },
  {
   "cell_type": "code",
   "execution_count": 12,
   "metadata": {},
   "outputs": [
    {
     "output_type": "execute_result",
     "data": {
      "text/plain": "Country              object\nRegion               object\nPopulation            int64\nArea                  int64\nPop_density         float64\nCoastline_ratio     float64\nNet_migration       float64\nInfant_mortality    float64\nGDP                 float64\nLiteracy            float64\nPhones_per_1000     float64\nArable              float64\nCrops               float64\nOther               float64\nClimate             float64\nBirthrate           float64\nDeathrate           float64\nAgriculture         float64\nIndustry            float64\nService             float64\ndtype: object"
     },
     "metadata": {},
     "execution_count": 12
    }
   ],
   "source": [
    "# Transformei direto da importação com: \"pd.read_csv(\"countries.csv\", thousands='.', decimal=',')\"\n",
    "df_countries.dtypes"
   ]
  },
  {
   "cell_type": "code",
   "execution_count": 13,
   "metadata": {},
   "outputs": [],
   "source": [
    "# Remover espaços com strip\n",
    "df_countries['Country'] = df_countries['Country'].str.strip()\n",
    "df_countries['Region'] = df_countries['Region'].str.strip()"
   ]
  },
  {
   "cell_type": "code",
   "execution_count": 14,
   "metadata": {},
   "outputs": [
    {
     "output_type": "execute_result",
     "data": {
      "text/plain": "('ASIA (EX. NEAR EAST)', 'ASIA (EX. NEAR EAST)         ')"
     },
     "metadata": {},
     "execution_count": 14
    }
   ],
   "source": [
    "# Strip funcionou?\n",
    "#countries_notna['Country'][0], countries['Country'][0]\n",
    "df_countries['Region'][0], countries['Region'][0]"
   ]
  },
  {
   "cell_type": "code",
   "execution_count": 15,
   "metadata": {},
   "outputs": [
    {
     "output_type": "execute_result",
     "data": {
      "text/plain": "          Country                Region  Population     Area  Pop_density  \\\n0     Afghanistan  ASIA (EX. NEAR EAST)    31056997   647500         48.0   \n1         Albania        EASTERN EUROPE     3581655    28748        124.6   \n2         Algeria       NORTHERN AFRICA    32930091  2381740         13.8   \n3  American Samoa               OCEANIA       57794      199        290.4   \n4         Andorra        WESTERN EUROPE       71201      468        152.1   \n\n   Coastline_ratio  Net_migration  Infant_mortality      GDP  Literacy  \\\n0             0.00          23.06            163.07    700.0      36.0   \n1             1.26          -4.93             21.52   4500.0      86.5   \n2             0.04          -0.39             31.00   6000.0      70.0   \n3            58.29         -20.71              9.27   8000.0      97.0   \n4             0.00           6.60              4.05  19000.0     100.0   \n\n   Phones_per_1000  Arable  Crops  Other  Climate  Birthrate  Deathrate  \\\n0              3.2   12.13   0.22  87.65      1.0      46.60      20.34   \n1             71.2   21.09   4.42  74.49      3.0      15.11       5.22   \n2             78.1    3.22   0.25  96.53      1.0      17.14       4.61   \n3            259.5   10.00  15.00  75.00      2.0      22.46       3.27   \n4            497.2    2.22   0.00  97.78      3.0       8.71       6.25   \n\n   Agriculture  Industry  Service  \n0        0.380     0.240    0.380  \n1        0.232     0.188    0.579  \n2        0.101     0.600    0.298  \n3          NaN       NaN      NaN  \n4          NaN       NaN      NaN  ",
      "text/html": "<div>\n<style scoped>\n    .dataframe tbody tr th:only-of-type {\n        vertical-align: middle;\n    }\n\n    .dataframe tbody tr th {\n        vertical-align: top;\n    }\n\n    .dataframe thead th {\n        text-align: right;\n    }\n</style>\n<table border=\"1\" class=\"dataframe\">\n  <thead>\n    <tr style=\"text-align: right;\">\n      <th></th>\n      <th>Country</th>\n      <th>Region</th>\n      <th>Population</th>\n      <th>Area</th>\n      <th>Pop_density</th>\n      <th>Coastline_ratio</th>\n      <th>Net_migration</th>\n      <th>Infant_mortality</th>\n      <th>GDP</th>\n      <th>Literacy</th>\n      <th>Phones_per_1000</th>\n      <th>Arable</th>\n      <th>Crops</th>\n      <th>Other</th>\n      <th>Climate</th>\n      <th>Birthrate</th>\n      <th>Deathrate</th>\n      <th>Agriculture</th>\n      <th>Industry</th>\n      <th>Service</th>\n    </tr>\n  </thead>\n  <tbody>\n    <tr>\n      <th>0</th>\n      <td>Afghanistan</td>\n      <td>ASIA (EX. NEAR EAST)</td>\n      <td>31056997</td>\n      <td>647500</td>\n      <td>48.0</td>\n      <td>0.00</td>\n      <td>23.06</td>\n      <td>163.07</td>\n      <td>700.0</td>\n      <td>36.0</td>\n      <td>3.2</td>\n      <td>12.13</td>\n      <td>0.22</td>\n      <td>87.65</td>\n      <td>1.0</td>\n      <td>46.60</td>\n      <td>20.34</td>\n      <td>0.380</td>\n      <td>0.240</td>\n      <td>0.380</td>\n    </tr>\n    <tr>\n      <th>1</th>\n      <td>Albania</td>\n      <td>EASTERN EUROPE</td>\n      <td>3581655</td>\n      <td>28748</td>\n      <td>124.6</td>\n      <td>1.26</td>\n      <td>-4.93</td>\n      <td>21.52</td>\n      <td>4500.0</td>\n      <td>86.5</td>\n      <td>71.2</td>\n      <td>21.09</td>\n      <td>4.42</td>\n      <td>74.49</td>\n      <td>3.0</td>\n      <td>15.11</td>\n      <td>5.22</td>\n      <td>0.232</td>\n      <td>0.188</td>\n      <td>0.579</td>\n    </tr>\n    <tr>\n      <th>2</th>\n      <td>Algeria</td>\n      <td>NORTHERN AFRICA</td>\n      <td>32930091</td>\n      <td>2381740</td>\n      <td>13.8</td>\n      <td>0.04</td>\n      <td>-0.39</td>\n      <td>31.00</td>\n      <td>6000.0</td>\n      <td>70.0</td>\n      <td>78.1</td>\n      <td>3.22</td>\n      <td>0.25</td>\n      <td>96.53</td>\n      <td>1.0</td>\n      <td>17.14</td>\n      <td>4.61</td>\n      <td>0.101</td>\n      <td>0.600</td>\n      <td>0.298</td>\n    </tr>\n    <tr>\n      <th>3</th>\n      <td>American Samoa</td>\n      <td>OCEANIA</td>\n      <td>57794</td>\n      <td>199</td>\n      <td>290.4</td>\n      <td>58.29</td>\n      <td>-20.71</td>\n      <td>9.27</td>\n      <td>8000.0</td>\n      <td>97.0</td>\n      <td>259.5</td>\n      <td>10.00</td>\n      <td>15.00</td>\n      <td>75.00</td>\n      <td>2.0</td>\n      <td>22.46</td>\n      <td>3.27</td>\n      <td>NaN</td>\n      <td>NaN</td>\n      <td>NaN</td>\n    </tr>\n    <tr>\n      <th>4</th>\n      <td>Andorra</td>\n      <td>WESTERN EUROPE</td>\n      <td>71201</td>\n      <td>468</td>\n      <td>152.1</td>\n      <td>0.00</td>\n      <td>6.60</td>\n      <td>4.05</td>\n      <td>19000.0</td>\n      <td>100.0</td>\n      <td>497.2</td>\n      <td>2.22</td>\n      <td>0.00</td>\n      <td>97.78</td>\n      <td>3.0</td>\n      <td>8.71</td>\n      <td>6.25</td>\n      <td>NaN</td>\n      <td>NaN</td>\n      <td>NaN</td>\n    </tr>\n  </tbody>\n</table>\n</div>"
     },
     "metadata": {},
     "execution_count": 15
    }
   ],
   "source": [
    "df_countries.head(5)"
   ]
  },
  {
   "cell_type": "code",
   "execution_count": 16,
   "metadata": {},
   "outputs": [
    {
     "output_type": "execute_result",
     "data": {
      "text/plain": "(227, 20)"
     },
     "metadata": {},
     "execution_count": 16
    }
   ],
   "source": [
    "df_countries.shape"
   ]
  },
  {
   "cell_type": "markdown",
   "metadata": {},
   "source": [
    "### Exercicio 01"
   ]
  },
  {
   "cell_type": "code",
   "execution_count": 17,
   "metadata": {},
   "outputs": [],
   "source": [
    "region_uni = df_countries['Region'].unique()"
   ]
  },
  {
   "cell_type": "code",
   "execution_count": 18,
   "metadata": {},
   "outputs": [
    {
     "output_type": "execute_result",
     "data": {
      "text/plain": "['ASIA (EX. NEAR EAST)',\n 'BALTICS',\n 'C.W. OF IND. STATES',\n 'EASTERN EUROPE',\n 'LATIN AMER. & CARIB',\n 'NEAR EAST',\n 'NORTHERN AFRICA',\n 'NORTHERN AMERICA',\n 'OCEANIA',\n 'SUB-SAHARAN AFRICA',\n 'WESTERN EUROPE']"
     },
     "metadata": {},
     "execution_count": 18
    }
   ],
   "source": [
    "sorted(region_uni)"
   ]
  },
  {
   "cell_type": "markdown",
   "metadata": {},
   "source": [
    "## Questão 1\n",
    "\n",
    "Quais são as regiões (variável `Region`) presentes no _data set_? Retorne uma lista com as regiões únicas do _data set_ com os espaços à frente e atrás da string removidos (mas mantenha pontuação: ponto, hífen etc) e ordenadas em ordem alfabética."
   ]
  },
  {
   "cell_type": "code",
   "execution_count": 19,
   "metadata": {},
   "outputs": [],
   "source": [
    "def q1():\n",
    "    # Retorne aqui o resultado da questão 1.\n",
    "    #Selecionar apenas os valores unicos de \"countries['Region']\"\n",
    "    region_uni = df_countries['Region'].unique()\n",
    "    return sorted(region_uni)"
   ]
  },
  {
   "cell_type": "markdown",
   "metadata": {},
   "source": [
    "### Exercicio 02"
   ]
  },
  {
   "cell_type": "code",
   "execution_count": 20,
   "metadata": {},
   "outputs": [],
   "source": [
    "def get_interval(bin_idx, bin_edges):\n",
    "  return f\"{np.round(bin_edges[bin_idx], 2):.2f} ⊢ {np.round(bin_edges[bin_idx+1], 2):.2f}\""
   ]
  },
  {
   "cell_type": "code",
   "execution_count": 21,
   "metadata": {},
   "outputs": [],
   "source": [
    "# criando objeto discretizer com 10 intervalos (bins), usando estrategia 'quantile'\n",
    "discretizer = KBinsDiscretizer(n_bins=10, encode=\"ordinal\", strategy=\"quantile\")"
   ]
  },
  {
   "cell_type": "code",
   "execution_count": 22,
   "metadata": {},
   "outputs": [
    {
     "output_type": "execute_result",
     "data": {
      "text/plain": "KBinsDiscretizer(encode='ordinal', n_bins=10)"
     },
     "metadata": {},
     "execution_count": 22
    }
   ],
   "source": [
    "# treinando modelo \n",
    "discretizer.fit(df_countries[['Pop_density']])"
   ]
  },
  {
   "cell_type": "code",
   "execution_count": 23,
   "metadata": {},
   "outputs": [],
   "source": [
    "# gerando limites de intervalos\n",
    "score_bins = discretizer.transform(df_countries[['Pop_density']])"
   ]
  },
  {
   "cell_type": "code",
   "execution_count": 24,
   "metadata": {},
   "outputs": [
    {
     "output_type": "execute_result",
     "data": {
      "text/plain": "array([array([0.00000e+00, 1.01400e+01, 2.12200e+01, 3.94800e+01, 5.98000e+01,\n       7.88000e+01, 1.05540e+02, 1.50120e+02, 2.53700e+02, 3.96740e+02,\n       1.62715e+04])], dtype=object)"
     },
     "metadata": {},
     "execution_count": 24
    }
   ],
   "source": [
    "# visualizando os intervalos gerados\n",
    "discretizer.bin_edges_"
   ]
  },
  {
   "cell_type": "code",
   "execution_count": 25,
   "metadata": {},
   "outputs": [
    {
     "output_type": "execute_result",
     "data": {
      "text/plain": "10"
     },
     "metadata": {},
     "execution_count": 25
    }
   ],
   "source": [
    "# confirmando numero de intervalos gerados\n",
    "len(discretizer.bin_edges_[0])-1"
   ]
  },
  {
   "cell_type": "code",
   "execution_count": 26,
   "metadata": {},
   "outputs": [
    {
     "output_type": "execute_result",
     "data": {
      "text/plain": "23"
     },
     "metadata": {},
     "execution_count": 26
    }
   ],
   "source": [
    "#somando apenas os dados que estão acima do 90o percentilsub\n",
    "sum(score_bins[:, 0] == 9)"
   ]
  },
  {
   "cell_type": "markdown",
   "metadata": {},
   "source": [
    "## Questão 2\n",
    "\n",
    "Discretizando a variável `Pop_density` em 10 intervalos com `KBinsDiscretizer`, seguindo o encode `ordinal` e estratégia `quantile`, quantos países se encontram acima do 90º percentil? Responda como um único escalar inteiro."
   ]
  },
  {
   "cell_type": "code",
   "execution_count": 27,
   "metadata": {},
   "outputs": [],
   "source": [
    "def q2():\n",
    "    # Retorne aqui o resultado da questão 2.\n",
    "\n",
    "    # criando objeto discretizer com 10 intervalos (bins), usando estrategia 'quantile'\n",
    "    discretizer = KBinsDiscretizer(n_bins=10, encode=\"ordinal\", strategy=\"quantile\")\n",
    "    # treinando modelo \n",
    "    discretizer.fit(df_countries[['Pop_density']])\n",
    "    # gerando limites de intervalos\n",
    "    score_bins = discretizer.transform(df_countries[['Pop_density']])\n",
    "    # visualizando os intervalos gerados\n",
    "    discretizer.bin_edges_\n",
    "    #somando apenas os dados que estão acima do 90o percentilsub\n",
    "    return int (sum(score_bins[:, 0] == 9))"
   ]
  },
  {
   "cell_type": "markdown",
   "metadata": {},
   "source": [
    "### Exercicio 03"
   ]
  },
  {
   "cell_type": "code",
   "execution_count": 28,
   "metadata": {},
   "outputs": [],
   "source": [
    "# criar objeto de OneHotEncoder\n",
    "one_hot_encoder = OneHotEncoder(sparse=False, dtype=np.int64)"
   ]
  },
  {
   "cell_type": "code",
   "execution_count": 29,
   "metadata": {},
   "outputs": [],
   "source": [
    "# Preenchendo valores nulos de 'Climate'\n",
    "df_countries['Climate'].fillna(0, inplace=True)"
   ]
  },
  {
   "cell_type": "code",
   "execution_count": 30,
   "metadata": {},
   "outputs": [],
   "source": [
    "# Treinar e transformar (encodar) os atributos 'Region' e 'Climate'\n",
    "encoded = one_hot_encoder.fit_transform(df_countries[['Region','Climate']])"
   ]
  },
  {
   "cell_type": "code",
   "execution_count": 31,
   "metadata": {},
   "outputs": [],
   "source": [
    "# atributos criados durante o treino e transformacao\n",
    "new_atributes = encoded.shape[1]"
   ]
  },
  {
   "cell_type": "code",
   "execution_count": 32,
   "metadata": {},
   "outputs": [
    {
     "output_type": "execute_result",
     "data": {
      "text/plain": "18"
     },
     "metadata": {},
     "execution_count": 32
    }
   ],
   "source": [
    "new_atributes"
   ]
  },
  {
   "cell_type": "markdown",
   "metadata": {},
   "source": [
    "## Questão 3\n",
    "\n",
    "Se codificarmos as variáveis `Region` e `Climate` usando _one-hot encoding_, quantos novos atributos seriam criados? Responda como um único escalar."
   ]
  },
  {
   "cell_type": "code",
   "execution_count": 33,
   "metadata": {},
   "outputs": [],
   "source": [
    "def q3():\n",
    "    # Retorne aqui o resultado da questão 3.\n",
    "\n",
    "    # criar objeto de OneHotEncoder\n",
    "    one_hot_encoder = OneHotEncoder(sparse=False)\n",
    "    # Preenchendo valores nulos de 'Climate'\n",
    "    df_countries['Climate'].fillna(0, inplace=True)\n",
    "    # Treinar e transformar (encodar) os atributos 'Region' e 'Climate'\n",
    "    encoded = one_hot_encoder.fit_transform(df_countries[['Region','Climate']])\n",
    "    # atributos criados durante o treino e transformacao\n",
    "    new_atributes = encoded.shape[1]\n",
    "    return int(new_atributes)"
   ]
  },
  {
   "cell_type": "markdown",
   "metadata": {},
   "source": [
    "### Exercicio 04"
   ]
  },
  {
   "cell_type": "code",
   "execution_count": 34,
   "metadata": {},
   "outputs": [],
   "source": [
    "test_country = [\n",
    "    'Test Country', 'NEAR EAST', -0.19032480757326514,\n",
    "    -0.3232636124824411, -0.04421734470810142, -0.27528113360605316,\n",
    "    0.13255850810281325, -0.8054845935643491, 1.0119784924248225,\n",
    "    0.6189182532646624, 1.0074863283776458, 0.20239896852403538,\n",
    "    -0.043678728558593366, -0.13929748680369286, 1.3163604645710438,\n",
    "    -0.3699637766938669, -0.6149300604558857, -0.854369594993175,\n",
    "    0.263445277972641, 0.5712416961268142\n",
    "]"
   ]
  },
  {
   "cell_type": "code",
   "execution_count": 35,
   "metadata": {},
   "outputs": [],
   "source": [
    "# criar pipeline\n",
    "num_pipeline = Pipeline(steps=[\n",
    "    (\"imputer\", SimpleImputer(strategy=\"median\")),\n",
    "    (\"standard_scaler\", StandardScaler())\n",
    "])"
   ]
  },
  {
   "cell_type": "code",
   "execution_count": 36,
   "metadata": {},
   "outputs": [],
   "source": [
    "# selecionar apenas atributos numericos\n",
    "numeric_atributes = countries.describe().columns.tolist()"
   ]
  },
  {
   "cell_type": "code",
   "execution_count": 37,
   "metadata": {},
   "outputs": [],
   "source": [
    "# aplicar pipeline sobre dados de treino (fit & transform) | retorna lista\n",
    "pipeline_transformation = num_pipeline.fit_transform(df_countries[numeric_atributes])"
   ]
  },
  {
   "cell_type": "code",
   "execution_count": 38,
   "metadata": {},
   "outputs": [
    {
     "output_type": "execute_result",
     "data": {
      "text/plain": "        Country     Region  Population      Area  Pop_density  \\\n0  Test Country  NEAR EAST   -0.190325 -0.323264    -0.044217   \n\n   Coastline_ratio  Net_migration  Infant_mortality       GDP  Literacy  \\\n0        -0.275281       0.132559         -0.805485  1.011978  0.618918   \n\n   Phones_per_1000    Arable     Crops     Other  Climate  Birthrate  \\\n0         1.007486  0.202399 -0.043679 -0.139297  1.31636  -0.369964   \n\n   Deathrate  Agriculture  Industry   Service  \n0   -0.61493     -0.85437  0.263445  0.571242  ",
      "text/html": "<div>\n<style scoped>\n    .dataframe tbody tr th:only-of-type {\n        vertical-align: middle;\n    }\n\n    .dataframe tbody tr th {\n        vertical-align: top;\n    }\n\n    .dataframe thead th {\n        text-align: right;\n    }\n</style>\n<table border=\"1\" class=\"dataframe\">\n  <thead>\n    <tr style=\"text-align: right;\">\n      <th></th>\n      <th>Country</th>\n      <th>Region</th>\n      <th>Population</th>\n      <th>Area</th>\n      <th>Pop_density</th>\n      <th>Coastline_ratio</th>\n      <th>Net_migration</th>\n      <th>Infant_mortality</th>\n      <th>GDP</th>\n      <th>Literacy</th>\n      <th>Phones_per_1000</th>\n      <th>Arable</th>\n      <th>Crops</th>\n      <th>Other</th>\n      <th>Climate</th>\n      <th>Birthrate</th>\n      <th>Deathrate</th>\n      <th>Agriculture</th>\n      <th>Industry</th>\n      <th>Service</th>\n    </tr>\n  </thead>\n  <tbody>\n    <tr>\n      <th>0</th>\n      <td>Test Country</td>\n      <td>NEAR EAST</td>\n      <td>-0.190325</td>\n      <td>-0.323264</td>\n      <td>-0.044217</td>\n      <td>-0.275281</td>\n      <td>0.132559</td>\n      <td>-0.805485</td>\n      <td>1.011978</td>\n      <td>0.618918</td>\n      <td>1.007486</td>\n      <td>0.202399</td>\n      <td>-0.043679</td>\n      <td>-0.139297</td>\n      <td>1.31636</td>\n      <td>-0.369964</td>\n      <td>-0.61493</td>\n      <td>-0.85437</td>\n      <td>0.263445</td>\n      <td>0.571242</td>\n    </tr>\n  </tbody>\n</table>\n</div>"
     },
     "metadata": {},
     "execution_count": 38
    }
   ],
   "source": [
    "# Transformar lista em um DataFrame e testar\n",
    "df_test_country = pd.DataFrame([test_country], columns = df_countries.columns)\n",
    "\n",
    "df_test_country.head()"
   ]
  },
  {
   "cell_type": "code",
   "execution_count": 39,
   "metadata": {},
   "outputs": [],
   "source": [
    "# Aplicar pipeline sobre o df, apenas nas colunas numericas\n",
    "test_country_transformation = num_pipeline.transform(df_test_country[numeric_atributes])"
   ]
  },
  {
   "cell_type": "code",
   "execution_count": 40,
   "metadata": {},
   "outputs": [],
   "source": [
    "# Criando df dos dados transformados para pegar apenas 'Arable'\n",
    "df_test_country_pipeline = pd.DataFrame(test_country_transformation, columns = df_countries.select_dtypes(include=[np.number]).columns)"
   ]
  },
  {
   "cell_type": "code",
   "execution_count": 41,
   "metadata": {},
   "outputs": [
    {
     "output_type": "execute_result",
     "data": {
      "text/plain": "0   -1.047\nName: Arable, dtype: float64"
     },
     "metadata": {},
     "execution_count": 41
    }
   ],
   "source": [
    "df_test_country_pipeline['Arable'].round(3)"
   ]
  },
  {
   "cell_type": "markdown",
   "metadata": {},
   "source": [
    "## Questão 4\n",
    "\n",
    "Aplique o seguinte _pipeline_:\n",
    "\n",
    "1. Preencha as variáveis do tipo `int64` e `float64` com suas respectivas medianas.\n",
    "2. Padronize essas variáveis.\n",
    "\n",
    "Após aplicado o _pipeline_ descrito acima aos dados (somente nas variáveis dos tipos especificados), aplique o mesmo _pipeline_ (ou `ColumnTransformer`) ao dado abaixo. Qual o valor da variável `Arable` após o _pipeline_? Responda como um único float arredondado para três casas decimais."
   ]
  },
  {
   "cell_type": "code",
   "execution_count": 42,
   "metadata": {},
   "outputs": [],
   "source": [
    "test_country = [\n",
    "    'Test Country', 'NEAR EAST', -0.19032480757326514,\n",
    "    -0.3232636124824411, -0.04421734470810142, -0.27528113360605316,\n",
    "    0.13255850810281325, -0.8054845935643491, 1.0119784924248225,\n",
    "    0.6189182532646624, 1.0074863283776458, 0.20239896852403538,\n",
    "    -0.043678728558593366, -0.13929748680369286, 1.3163604645710438,\n",
    "    -0.3699637766938669, -0.6149300604558857, -0.854369594993175,\n",
    "    0.263445277972641, 0.5712416961268142\n",
    "]"
   ]
  },
  {
   "cell_type": "code",
   "execution_count": 43,
   "metadata": {},
   "outputs": [],
   "source": [
    "def q4():\n",
    "    # Retorne aqui o resultado da questão 4.\n",
    "    \n",
    "    # criar pipeline\n",
    "    num_pipeline = Pipeline(steps=[\n",
    "        (\"imputer\", SimpleImputer(strategy=\"median\")),\n",
    "        (\"standard_scaler\", StandardScaler())\n",
    "    ])\n",
    "    # selecionar apenas atributos numericos\n",
    "    numeric_atributes = countries.describe().columns.tolist()\n",
    "    # aplicar pipeline sobre dados de treino (fit & transform) | retorna lista\n",
    "    pipeline_transformation = num_pipeline.fit_transform(df_countries[numeric_atributes])\n",
    "    # Transformar lista em um DataFrame e testar\n",
    "    df_test_country = pd.DataFrame([test_country], columns = df_countries.columns)\n",
    "    df_test_country.head()\n",
    "    # Aplicar pipeline sobre o df, apenas nas colunas numericas\n",
    "    test_country_transformation = num_pipeline.transform(df_test_country[numeric_atributes])\n",
    "    # Criando df dos dados transformados para pegar apenas 'Arable'\n",
    "    df_test_country_pipeline = pd.DataFrame(test_country_transformation, columns = df_countries.select_dtypes(include=[np.number]).columns)\n",
    "    return float(df_test_country_pipeline['Arable'].round(3))"
   ]
  },
  {
   "cell_type": "markdown",
   "metadata": {},
   "source": [
    "### Exercicio 05"
   ]
  },
  {
   "cell_type": "code",
   "execution_count": 98,
   "metadata": {},
   "outputs": [],
   "source": [
    "# selecionar apenas colunas net_migration\n",
    "net_migration_outliers = df_countries['Net_migration'].dropna().copy()"
   ]
  },
  {
   "cell_type": "code",
   "execution_count": 99,
   "metadata": {},
   "outputs": [
    {
     "output_type": "display_data",
     "data": {
      "text/plain": "<Figure size 864x576 with 1 Axes>",
      "image/svg+xml": "<?xml version=\"1.0\" encoding=\"utf-8\" standalone=\"no\"?>\n<!DOCTYPE svg PUBLIC \"-//W3C//DTD SVG 1.1//EN\"\n  \"http://www.w3.org/Graphics/SVG/1.1/DTD/svg11.dtd\">\n<!-- Created with matplotlib (https://matplotlib.org/) -->\n<svg height=\"449.28pt\" version=\"1.1\" viewBox=\"0 0 732.662656 449.28\" width=\"732.662656pt\" xmlns=\"http://www.w3.org/2000/svg\" xmlns:xlink=\"http://www.w3.org/1999/xlink\">\n <defs>\n  <style type=\"text/css\">\n*{stroke-linecap:butt;stroke-linejoin:round;white-space:pre;}\n  </style>\n </defs>\n <g id=\"figure_1\">\n  <g id=\"patch_1\">\n   <path d=\"M 0 449.28 \nL 732.662656 449.28 \nL 732.662656 0 \nL 0 0 \nz\n\" style=\"fill:#ffffff;\"/>\n  </g>\n  <g id=\"axes_1\">\n   <g id=\"patch_2\">\n    <path d=\"M 55.862656 442.08 \nL 725.462656 442.08 \nL 725.462656 7.2 \nL 55.862656 7.2 \nz\n\" style=\"fill:#eaeaf2;\"/>\n   </g>\n   <g id=\"matplotlib.axis_1\">\n    <g id=\"xtick_1\"/>\n   </g>\n   <g id=\"matplotlib.axis_2\">\n    <g id=\"ytick_1\">\n     <g id=\"line2d_1\">\n      <path clip-path=\"url(#pa000a91d4d)\" d=\"M 55.862656 413.427551 \nL 725.462656 413.427551 \n\" style=\"fill:none;stroke:#ffffff;stroke-linecap:round;\"/>\n     </g>\n     <g id=\"text_1\">\n      <!-- −20 -->\n      <defs>\n       <path d=\"M 10.59375 35.5 \nL 73.1875 35.5 \nL 73.1875 27.203125 \nL 10.59375 27.203125 \nz\n\" id=\"DejaVuSans-8722\"/>\n       <path d=\"M 19.1875 8.296875 \nL 53.609375 8.296875 \nL 53.609375 0 \nL 7.328125 0 \nL 7.328125 8.296875 \nQ 12.9375 14.109375 22.625 23.890625 \nQ 32.328125 33.6875 34.8125 36.53125 \nQ 39.546875 41.84375 41.421875 45.53125 \nQ 43.3125 49.21875 43.3125 52.78125 \nQ 43.3125 58.59375 39.234375 62.25 \nQ 35.15625 65.921875 28.609375 65.921875 \nQ 23.96875 65.921875 18.8125 64.3125 \nQ 13.671875 62.703125 7.8125 59.421875 \nL 7.8125 69.390625 \nQ 13.765625 71.78125 18.9375 73 \nQ 24.125 74.21875 28.421875 74.21875 \nQ 39.75 74.21875 46.484375 68.546875 \nQ 53.21875 62.890625 53.21875 53.421875 \nQ 53.21875 48.921875 51.53125 44.890625 \nQ 49.859375 40.875 45.40625 35.40625 \nQ 44.1875 33.984375 37.640625 27.21875 \nQ 31.109375 20.453125 19.1875 8.296875 \nz\n\" id=\"DejaVuSans-50\"/>\n       <path d=\"M 31.78125 66.40625 \nQ 24.171875 66.40625 20.328125 58.90625 \nQ 16.5 51.421875 16.5 36.375 \nQ 16.5 21.390625 20.328125 13.890625 \nQ 24.171875 6.390625 31.78125 6.390625 \nQ 39.453125 6.390625 43.28125 13.890625 \nQ 47.125 21.390625 47.125 36.375 \nQ 47.125 51.421875 43.28125 58.90625 \nQ 39.453125 66.40625 31.78125 66.40625 \nz\nM 31.78125 74.21875 \nQ 44.046875 74.21875 50.515625 64.515625 \nQ 56.984375 54.828125 56.984375 36.375 \nQ 56.984375 17.96875 50.515625 8.265625 \nQ 44.046875 -1.421875 31.78125 -1.421875 \nQ 19.53125 -1.421875 13.0625 8.265625 \nQ 6.59375 17.96875 6.59375 36.375 \nQ 6.59375 54.828125 13.0625 64.515625 \nQ 19.53125 74.21875 31.78125 74.21875 \nz\n\" id=\"DejaVuSans-48\"/>\n      </defs>\n      <g style=\"fill:#262626;\" transform=\"translate(23.1475 417.606692)scale(0.11 -0.11)\">\n       <use xlink:href=\"#DejaVuSans-8722\"/>\n       <use x=\"83.789062\" xlink:href=\"#DejaVuSans-50\"/>\n       <use x=\"147.412109\" xlink:href=\"#DejaVuSans-48\"/>\n      </g>\n     </g>\n    </g>\n    <g id=\"ytick_2\">\n     <g id=\"line2d_2\">\n      <path clip-path=\"url(#pa000a91d4d)\" d=\"M 55.862656 323.678299 \nL 725.462656 323.678299 \n\" style=\"fill:none;stroke:#ffffff;stroke-linecap:round;\"/>\n     </g>\n     <g id=\"text_2\">\n      <!-- −10 -->\n      <defs>\n       <path d=\"M 12.40625 8.296875 \nL 28.515625 8.296875 \nL 28.515625 63.921875 \nL 10.984375 60.40625 \nL 10.984375 69.390625 \nL 28.421875 72.90625 \nL 38.28125 72.90625 \nL 38.28125 8.296875 \nL 54.390625 8.296875 \nL 54.390625 0 \nL 12.40625 0 \nz\n\" id=\"DejaVuSans-49\"/>\n      </defs>\n      <g style=\"fill:#262626;\" transform=\"translate(23.1475 327.85744)scale(0.11 -0.11)\">\n       <use xlink:href=\"#DejaVuSans-8722\"/>\n       <use x=\"83.789062\" xlink:href=\"#DejaVuSans-49\"/>\n       <use x=\"147.412109\" xlink:href=\"#DejaVuSans-48\"/>\n      </g>\n     </g>\n    </g>\n    <g id=\"ytick_3\">\n     <g id=\"line2d_3\">\n      <path clip-path=\"url(#pa000a91d4d)\" d=\"M 55.862656 233.929048 \nL 725.462656 233.929048 \n\" style=\"fill:none;stroke:#ffffff;stroke-linecap:round;\"/>\n     </g>\n     <g id=\"text_3\">\n      <!-- 0 -->\n      <g style=\"fill:#262626;\" transform=\"translate(39.363906 238.108188)scale(0.11 -0.11)\">\n       <use xlink:href=\"#DejaVuSans-48\"/>\n      </g>\n     </g>\n    </g>\n    <g id=\"ytick_4\">\n     <g id=\"line2d_4\">\n      <path clip-path=\"url(#pa000a91d4d)\" d=\"M 55.862656 144.179796 \nL 725.462656 144.179796 \n\" style=\"fill:none;stroke:#ffffff;stroke-linecap:round;\"/>\n     </g>\n     <g id=\"text_4\">\n      <!-- 10 -->\n      <g style=\"fill:#262626;\" transform=\"translate(32.365156 148.358936)scale(0.11 -0.11)\">\n       <use xlink:href=\"#DejaVuSans-49\"/>\n       <use x=\"63.623047\" xlink:href=\"#DejaVuSans-48\"/>\n      </g>\n     </g>\n    </g>\n    <g id=\"ytick_5\">\n     <g id=\"line2d_5\">\n      <path clip-path=\"url(#pa000a91d4d)\" d=\"M 55.862656 54.430544 \nL 725.462656 54.430544 \n\" style=\"fill:none;stroke:#ffffff;stroke-linecap:round;\"/>\n     </g>\n     <g id=\"text_5\">\n      <!-- 20 -->\n      <g style=\"fill:#262626;\" transform=\"translate(32.365156 58.609684)scale(0.11 -0.11)\">\n       <use xlink:href=\"#DejaVuSans-50\"/>\n       <use x=\"63.623047\" xlink:href=\"#DejaVuSans-48\"/>\n      </g>\n     </g>\n    </g>\n    <g id=\"text_6\">\n     <!-- Net_migration -->\n     <defs>\n      <path d=\"M 9.8125 72.90625 \nL 23.09375 72.90625 \nL 55.421875 11.921875 \nL 55.421875 72.90625 \nL 64.984375 72.90625 \nL 64.984375 0 \nL 51.703125 0 \nL 19.390625 60.984375 \nL 19.390625 0 \nL 9.8125 0 \nz\n\" id=\"DejaVuSans-78\"/>\n      <path d=\"M 56.203125 29.59375 \nL 56.203125 25.203125 \nL 14.890625 25.203125 \nQ 15.484375 15.921875 20.484375 11.0625 \nQ 25.484375 6.203125 34.421875 6.203125 \nQ 39.59375 6.203125 44.453125 7.46875 \nQ 49.3125 8.734375 54.109375 11.28125 \nL 54.109375 2.78125 \nQ 49.265625 0.734375 44.1875 -0.34375 \nQ 39.109375 -1.421875 33.890625 -1.421875 \nQ 20.796875 -1.421875 13.15625 6.1875 \nQ 5.515625 13.8125 5.515625 26.8125 \nQ 5.515625 40.234375 12.765625 48.109375 \nQ 20.015625 56 32.328125 56 \nQ 43.359375 56 49.78125 48.890625 \nQ 56.203125 41.796875 56.203125 29.59375 \nz\nM 47.21875 32.234375 \nQ 47.125 39.59375 43.09375 43.984375 \nQ 39.0625 48.390625 32.421875 48.390625 \nQ 24.90625 48.390625 20.390625 44.140625 \nQ 15.875 39.890625 15.1875 32.171875 \nz\n\" id=\"DejaVuSans-101\"/>\n      <path d=\"M 18.3125 70.21875 \nL 18.3125 54.6875 \nL 36.8125 54.6875 \nL 36.8125 47.703125 \nL 18.3125 47.703125 \nL 18.3125 18.015625 \nQ 18.3125 11.328125 20.140625 9.421875 \nQ 21.96875 7.515625 27.59375 7.515625 \nL 36.8125 7.515625 \nL 36.8125 0 \nL 27.59375 0 \nQ 17.1875 0 13.234375 3.875 \nQ 9.28125 7.765625 9.28125 18.015625 \nL 9.28125 47.703125 \nL 2.6875 47.703125 \nL 2.6875 54.6875 \nL 9.28125 54.6875 \nL 9.28125 70.21875 \nz\n\" id=\"DejaVuSans-116\"/>\n      <path d=\"M 50.984375 -16.609375 \nL 50.984375 -23.578125 \nL -0.984375 -23.578125 \nL -0.984375 -16.609375 \nz\n\" id=\"DejaVuSans-95\"/>\n      <path d=\"M 52 44.1875 \nQ 55.375 50.25 60.0625 53.125 \nQ 64.75 56 71.09375 56 \nQ 79.640625 56 84.28125 50.015625 \nQ 88.921875 44.046875 88.921875 33.015625 \nL 88.921875 0 \nL 79.890625 0 \nL 79.890625 32.71875 \nQ 79.890625 40.578125 77.09375 44.375 \nQ 74.3125 48.1875 68.609375 48.1875 \nQ 61.625 48.1875 57.5625 43.546875 \nQ 53.515625 38.921875 53.515625 30.90625 \nL 53.515625 0 \nL 44.484375 0 \nL 44.484375 32.71875 \nQ 44.484375 40.625 41.703125 44.40625 \nQ 38.921875 48.1875 33.109375 48.1875 \nQ 26.21875 48.1875 22.15625 43.53125 \nQ 18.109375 38.875 18.109375 30.90625 \nL 18.109375 0 \nL 9.078125 0 \nL 9.078125 54.6875 \nL 18.109375 54.6875 \nL 18.109375 46.1875 \nQ 21.1875 51.21875 25.484375 53.609375 \nQ 29.78125 56 35.6875 56 \nQ 41.65625 56 45.828125 52.96875 \nQ 50 49.953125 52 44.1875 \nz\n\" id=\"DejaVuSans-109\"/>\n      <path d=\"M 9.421875 54.6875 \nL 18.40625 54.6875 \nL 18.40625 0 \nL 9.421875 0 \nz\nM 9.421875 75.984375 \nL 18.40625 75.984375 \nL 18.40625 64.59375 \nL 9.421875 64.59375 \nz\n\" id=\"DejaVuSans-105\"/>\n      <path d=\"M 45.40625 27.984375 \nQ 45.40625 37.75 41.375 43.109375 \nQ 37.359375 48.484375 30.078125 48.484375 \nQ 22.859375 48.484375 18.828125 43.109375 \nQ 14.796875 37.75 14.796875 27.984375 \nQ 14.796875 18.265625 18.828125 12.890625 \nQ 22.859375 7.515625 30.078125 7.515625 \nQ 37.359375 7.515625 41.375 12.890625 \nQ 45.40625 18.265625 45.40625 27.984375 \nz\nM 54.390625 6.78125 \nQ 54.390625 -7.171875 48.1875 -13.984375 \nQ 42 -20.796875 29.203125 -20.796875 \nQ 24.46875 -20.796875 20.265625 -20.09375 \nQ 16.0625 -19.390625 12.109375 -17.921875 \nL 12.109375 -9.1875 \nQ 16.0625 -11.328125 19.921875 -12.34375 \nQ 23.78125 -13.375 27.78125 -13.375 \nQ 36.625 -13.375 41.015625 -8.765625 \nQ 45.40625 -4.15625 45.40625 5.171875 \nL 45.40625 9.625 \nQ 42.625 4.78125 38.28125 2.390625 \nQ 33.9375 0 27.875 0 \nQ 17.828125 0 11.671875 7.65625 \nQ 5.515625 15.328125 5.515625 27.984375 \nQ 5.515625 40.671875 11.671875 48.328125 \nQ 17.828125 56 27.875 56 \nQ 33.9375 56 38.28125 53.609375 \nQ 42.625 51.21875 45.40625 46.390625 \nL 45.40625 54.6875 \nL 54.390625 54.6875 \nz\n\" id=\"DejaVuSans-103\"/>\n      <path d=\"M 41.109375 46.296875 \nQ 39.59375 47.171875 37.8125 47.578125 \nQ 36.03125 48 33.890625 48 \nQ 26.265625 48 22.1875 43.046875 \nQ 18.109375 38.09375 18.109375 28.8125 \nL 18.109375 0 \nL 9.078125 0 \nL 9.078125 54.6875 \nL 18.109375 54.6875 \nL 18.109375 46.1875 \nQ 20.953125 51.171875 25.484375 53.578125 \nQ 30.03125 56 36.53125 56 \nQ 37.453125 56 38.578125 55.875 \nQ 39.703125 55.765625 41.0625 55.515625 \nz\n\" id=\"DejaVuSans-114\"/>\n      <path d=\"M 34.28125 27.484375 \nQ 23.390625 27.484375 19.1875 25 \nQ 14.984375 22.515625 14.984375 16.5 \nQ 14.984375 11.71875 18.140625 8.90625 \nQ 21.296875 6.109375 26.703125 6.109375 \nQ 34.1875 6.109375 38.703125 11.40625 \nQ 43.21875 16.703125 43.21875 25.484375 \nL 43.21875 27.484375 \nz\nM 52.203125 31.203125 \nL 52.203125 0 \nL 43.21875 0 \nL 43.21875 8.296875 \nQ 40.140625 3.328125 35.546875 0.953125 \nQ 30.953125 -1.421875 24.3125 -1.421875 \nQ 15.921875 -1.421875 10.953125 3.296875 \nQ 6 8.015625 6 15.921875 \nQ 6 25.140625 12.171875 29.828125 \nQ 18.359375 34.515625 30.609375 34.515625 \nL 43.21875 34.515625 \nL 43.21875 35.40625 \nQ 43.21875 41.609375 39.140625 45 \nQ 35.0625 48.390625 27.6875 48.390625 \nQ 23 48.390625 18.546875 47.265625 \nQ 14.109375 46.140625 10.015625 43.890625 \nL 10.015625 52.203125 \nQ 14.9375 54.109375 19.578125 55.046875 \nQ 24.21875 56 28.609375 56 \nQ 40.484375 56 46.34375 49.84375 \nQ 52.203125 43.703125 52.203125 31.203125 \nz\n\" id=\"DejaVuSans-97\"/>\n      <path d=\"M 30.609375 48.390625 \nQ 23.390625 48.390625 19.1875 42.75 \nQ 14.984375 37.109375 14.984375 27.296875 \nQ 14.984375 17.484375 19.15625 11.84375 \nQ 23.34375 6.203125 30.609375 6.203125 \nQ 37.796875 6.203125 41.984375 11.859375 \nQ 46.1875 17.53125 46.1875 27.296875 \nQ 46.1875 37.015625 41.984375 42.703125 \nQ 37.796875 48.390625 30.609375 48.390625 \nz\nM 30.609375 56 \nQ 42.328125 56 49.015625 48.375 \nQ 55.71875 40.765625 55.71875 27.296875 \nQ 55.71875 13.875 49.015625 6.21875 \nQ 42.328125 -1.421875 30.609375 -1.421875 \nQ 18.84375 -1.421875 12.171875 6.21875 \nQ 5.515625 13.875 5.515625 27.296875 \nQ 5.515625 40.765625 12.171875 48.375 \nQ 18.84375 56 30.609375 56 \nz\n\" id=\"DejaVuSans-111\"/>\n      <path d=\"M 54.890625 33.015625 \nL 54.890625 0 \nL 45.90625 0 \nL 45.90625 32.71875 \nQ 45.90625 40.484375 42.875 44.328125 \nQ 39.84375 48.1875 33.796875 48.1875 \nQ 26.515625 48.1875 22.3125 43.546875 \nQ 18.109375 38.921875 18.109375 30.90625 \nL 18.109375 0 \nL 9.078125 0 \nL 9.078125 54.6875 \nL 18.109375 54.6875 \nL 18.109375 46.1875 \nQ 21.34375 51.125 25.703125 53.5625 \nQ 30.078125 56 35.796875 56 \nQ 45.21875 56 50.046875 50.171875 \nQ 54.890625 44.34375 54.890625 33.015625 \nz\n\" id=\"DejaVuSans-110\"/>\n     </defs>\n     <g style=\"fill:#262626;\" transform=\"translate(16.318125 267.129375)rotate(-90)scale(0.12 -0.12)\">\n      <use xlink:href=\"#DejaVuSans-78\"/>\n      <use x=\"74.804688\" xlink:href=\"#DejaVuSans-101\"/>\n      <use x=\"136.328125\" xlink:href=\"#DejaVuSans-116\"/>\n      <use x=\"175.537109\" xlink:href=\"#DejaVuSans-95\"/>\n      <use x=\"225.537109\" xlink:href=\"#DejaVuSans-109\"/>\n      <use x=\"322.949219\" xlink:href=\"#DejaVuSans-105\"/>\n      <use x=\"350.732422\" xlink:href=\"#DejaVuSans-103\"/>\n      <use x=\"414.208984\" xlink:href=\"#DejaVuSans-114\"/>\n      <use x=\"455.322266\" xlink:href=\"#DejaVuSans-97\"/>\n      <use x=\"516.601562\" xlink:href=\"#DejaVuSans-116\"/>\n      <use x=\"555.810547\" xlink:href=\"#DejaVuSans-105\"/>\n      <use x=\"583.59375\" xlink:href=\"#DejaVuSans-111\"/>\n      <use x=\"644.775391\" xlink:href=\"#DejaVuSans-110\"/>\n     </g>\n    </g>\n   </g>\n   <g id=\"patch_3\">\n    <path clip-path=\"url(#pa000a91d4d)\" d=\"M 122.822656 242.253291 \nL 658.502656 242.253291 \nL 658.502656 224.97656 \nL 122.822656 224.97656 \nL 122.822656 242.253291 \nz\n\" style=\"fill:#5875a4;stroke:#4c4c4c;stroke-linejoin:miter;stroke-width:1.5;\"/>\n   </g>\n   <g id=\"line2d_6\">\n    <path clip-path=\"url(#pa000a91d4d)\" d=\"M 390.662656 242.253291 \nL 390.662656 267.495268 \n\" style=\"fill:none;stroke:#4c4c4c;stroke-linecap:round;stroke-width:1.5;\"/>\n   </g>\n   <g id=\"line2d_7\">\n    <path clip-path=\"url(#pa000a91d4d)\" d=\"M 390.662656 224.97656 \nL 390.662656 199.465335 \n\" style=\"fill:none;stroke:#4c4c4c;stroke-linecap:round;stroke-width:1.5;\"/>\n   </g>\n   <g id=\"line2d_8\">\n    <path clip-path=\"url(#pa000a91d4d)\" d=\"M 256.742656 267.495268 \nL 524.582656 267.495268 \n\" style=\"fill:none;stroke:#4c4c4c;stroke-linecap:round;stroke-width:1.5;\"/>\n   </g>\n   <g id=\"line2d_9\">\n    <path clip-path=\"url(#pa000a91d4d)\" d=\"M 256.742656 199.465335 \nL 524.582656 199.465335 \n\" style=\"fill:none;stroke:#4c4c4c;stroke-linecap:round;stroke-width:1.5;\"/>\n   </g>\n   <g id=\"line2d_10\">\n    <defs>\n     <path d=\"M -0 3.535534 \nL 2.12132 0 \nL -0 -3.535534 \nL -2.12132 -0 \nz\n\" id=\"md48aa41cda\" style=\"stroke:#4c4c4c;stroke-linejoin:miter;\"/>\n    </defs>\n    <g clip-path=\"url(#pa000a91d4d)\">\n     <use style=\"fill:#4c4c4c;stroke:#4c4c4c;stroke-linejoin:miter;\" x=\"390.662656\" xlink:href=\"#md48aa41cda\" y=\"278.175429\"/>\n     <use style=\"fill:#4c4c4c;stroke:#4c4c4c;stroke-linejoin:miter;\" x=\"390.662656\" xlink:href=\"#md48aa41cda\" y=\"419.799748\"/>\n     <use style=\"fill:#4c4c4c;stroke:#4c4c4c;stroke-linejoin:miter;\" x=\"390.662656\" xlink:href=\"#md48aa41cda\" y=\"289.124837\"/>\n     <use style=\"fill:#4c4c4c;stroke:#4c4c4c;stroke-linejoin:miter;\" x=\"390.662656\" xlink:href=\"#md48aa41cda\" y=\"291.996814\"/>\n     <use style=\"fill:#4c4c4c;stroke:#4c4c4c;stroke-linejoin:miter;\" x=\"390.662656\" xlink:href=\"#md48aa41cda\" y=\"277.906181\"/>\n     <use style=\"fill:#4c4c4c;stroke:#4c4c4c;stroke-linejoin:miter;\" x=\"390.662656\" xlink:href=\"#md48aa41cda\" y=\"275.034205\"/>\n     <use style=\"fill:#4c4c4c;stroke:#4c4c4c;stroke-linejoin:miter;\" x=\"390.662656\" xlink:href=\"#md48aa41cda\" y=\"342.256395\"/>\n     <use style=\"fill:#4c4c4c;stroke:#4c4c4c;stroke-linejoin:miter;\" x=\"390.662656\" xlink:href=\"#md48aa41cda\" y=\"358.41126\"/>\n     <use style=\"fill:#4c4c4c;stroke:#4c4c4c;stroke-linejoin:miter;\" x=\"390.662656\" xlink:href=\"#md48aa41cda\" y=\"310.933906\"/>\n     <use style=\"fill:#4c4c4c;stroke:#4c4c4c;stroke-linejoin:miter;\" x=\"390.662656\" xlink:href=\"#md48aa41cda\" y=\"276.111196\"/>\n     <use style=\"fill:#4c4c4c;stroke:#4c4c4c;stroke-linejoin:miter;\" x=\"390.662656\" xlink:href=\"#md48aa41cda\" y=\"309.049171\"/>\n     <use style=\"fill:#4c4c4c;stroke:#4c4c4c;stroke-linejoin:miter;\" x=\"390.662656\" xlink:href=\"#md48aa41cda\" y=\"358.860006\"/>\n     <use style=\"fill:#4c4c4c;stroke:#4c4c4c;stroke-linejoin:miter;\" x=\"390.662656\" xlink:href=\"#md48aa41cda\" y=\"278.085679\"/>\n     <use style=\"fill:#4c4c4c;stroke:#4c4c4c;stroke-linejoin:miter;\" x=\"390.662656\" xlink:href=\"#md48aa41cda\" y=\"288.137596\"/>\n     <use style=\"fill:#4c4c4c;stroke:#4c4c4c;stroke-linejoin:miter;\" x=\"390.662656\" xlink:href=\"#md48aa41cda\" y=\"277.636933\"/>\n     <use style=\"fill:#4c4c4c;stroke:#4c4c4c;stroke-linejoin:miter;\" x=\"390.662656\" xlink:href=\"#md48aa41cda\" y=\"422.312727\"/>\n     <use style=\"fill:#4c4c4c;stroke:#4c4c4c;stroke-linejoin:miter;\" x=\"390.662656\" xlink:href=\"#md48aa41cda\" y=\"297.740766\"/>\n     <use style=\"fill:#4c4c4c;stroke:#4c4c4c;stroke-linejoin:miter;\" x=\"390.662656\" xlink:href=\"#md48aa41cda\" y=\"277.547184\"/>\n     <use style=\"fill:#4c4c4c;stroke:#4c4c4c;stroke-linejoin:miter;\" x=\"390.662656\" xlink:href=\"#md48aa41cda\" y=\"302.497476\"/>\n     <use style=\"fill:#4c4c4c;stroke:#4c4c4c;stroke-linejoin:miter;\" x=\"390.662656\" xlink:href=\"#md48aa41cda\" y=\"338.935672\"/>\n     <use style=\"fill:#4c4c4c;stroke:#4c4c4c;stroke-linejoin:miter;\" x=\"390.662656\" xlink:href=\"#md48aa41cda\" y=\"284.996372\"/>\n     <use style=\"fill:#4c4c4c;stroke:#4c4c4c;stroke-linejoin:miter;\" x=\"390.662656\" xlink:href=\"#md48aa41cda\" y=\"312.998138\"/>\n     <use style=\"fill:#4c4c4c;stroke:#4c4c4c;stroke-linejoin:miter;\" x=\"390.662656\" xlink:href=\"#md48aa41cda\" y=\"331.127487\"/>\n     <use style=\"fill:#4c4c4c;stroke:#4c4c4c;stroke-linejoin:miter;\" x=\"390.662656\" xlink:href=\"#md48aa41cda\" y=\"314.164879\"/>\n     <use style=\"fill:#4c4c4c;stroke:#4c4c4c;stroke-linejoin:miter;\" x=\"390.662656\" xlink:href=\"#md48aa41cda\" y=\"26.967273\"/>\n     <use style=\"fill:#4c4c4c;stroke:#4c4c4c;stroke-linejoin:miter;\" x=\"390.662656\" xlink:href=\"#md48aa41cda\" y=\"174.694541\"/>\n     <use style=\"fill:#4c4c4c;stroke:#4c4c4c;stroke-linejoin:miter;\" x=\"390.662656\" xlink:href=\"#md48aa41cda\" y=\"137.358853\"/>\n     <use style=\"fill:#4c4c4c;stroke:#4c4c4c;stroke-linejoin:miter;\" x=\"390.662656\" xlink:href=\"#md48aa41cda\" y=\"198.208845\"/>\n     <use style=\"fill:#4c4c4c;stroke:#4c4c4c;stroke-linejoin:miter;\" x=\"390.662656\" xlink:href=\"#md48aa41cda\" y=\"144.090046\"/>\n     <use style=\"fill:#4c4c4c;stroke:#4c4c4c;stroke-linejoin:miter;\" x=\"390.662656\" xlink:href=\"#md48aa41cda\" y=\"180.438493\"/>\n     <use style=\"fill:#4c4c4c;stroke:#4c4c4c;stroke-linejoin:miter;\" x=\"390.662656\" xlink:href=\"#md48aa41cda\" y=\"65.6492\"/>\n     <use style=\"fill:#4c4c4c;stroke:#4c4c4c;stroke-linejoin:miter;\" x=\"390.662656\" xlink:href=\"#md48aa41cda\" y=\"177.656267\"/>\n     <use style=\"fill:#4c4c4c;stroke:#4c4c4c;stroke-linejoin:miter;\" x=\"390.662656\" xlink:href=\"#md48aa41cda\" y=\"186.90044\"/>\n     <use style=\"fill:#4c4c4c;stroke:#4c4c4c;stroke-linejoin:miter;\" x=\"390.662656\" xlink:href=\"#md48aa41cda\" y=\"189.144171\"/>\n     <use style=\"fill:#4c4c4c;stroke:#4c4c4c;stroke-linejoin:miter;\" x=\"390.662656\" xlink:href=\"#md48aa41cda\" y=\"185.823449\"/>\n     <use style=\"fill:#4c4c4c;stroke:#4c4c4c;stroke-linejoin:miter;\" x=\"390.662656\" xlink:href=\"#md48aa41cda\" y=\"174.784291\"/>\n     <use style=\"fill:#4c4c4c;stroke:#4c4c4c;stroke-linejoin:miter;\" x=\"390.662656\" xlink:href=\"#md48aa41cda\" y=\"106.664608\"/>\n     <use style=\"fill:#4c4c4c;stroke:#4c4c4c;stroke-linejoin:miter;\" x=\"390.662656\" xlink:href=\"#md48aa41cda\" y=\"190.40066\"/>\n     <use style=\"fill:#4c4c4c;stroke:#4c4c4c;stroke-linejoin:miter;\" x=\"390.662656\" xlink:href=\"#md48aa41cda\" y=\"153.423969\"/>\n     <use style=\"fill:#4c4c4c;stroke:#4c4c4c;stroke-linejoin:miter;\" x=\"390.662656\" xlink:href=\"#md48aa41cda\" y=\"190.310911\"/>\n     <use style=\"fill:#4c4c4c;stroke:#4c4c4c;stroke-linejoin:miter;\" x=\"390.662656\" xlink:href=\"#md48aa41cda\" y=\"173.079055\"/>\n     <use style=\"fill:#4c4c4c;stroke:#4c4c4c;stroke-linejoin:miter;\" x=\"390.662656\" xlink:href=\"#md48aa41cda\" y=\"164.373377\"/>\n     <use style=\"fill:#4c4c4c;stroke:#4c4c4c;stroke-linejoin:miter;\" x=\"390.662656\" xlink:href=\"#md48aa41cda\" y=\"197.580601\"/>\n     <use style=\"fill:#4c4c4c;stroke:#4c4c4c;stroke-linejoin:miter;\" x=\"390.662656\" xlink:href=\"#md48aa41cda\" y=\"147.680017\"/>\n     <use style=\"fill:#4c4c4c;stroke:#4c4c4c;stroke-linejoin:miter;\" x=\"390.662656\" xlink:href=\"#md48aa41cda\" y=\"87.727516\"/>\n     <use style=\"fill:#4c4c4c;stroke:#4c4c4c;stroke-linejoin:miter;\" x=\"390.662656\" xlink:href=\"#md48aa41cda\" y=\"135.384369\"/>\n     <use style=\"fill:#4c4c4c;stroke:#4c4c4c;stroke-linejoin:miter;\" x=\"390.662656\" xlink:href=\"#md48aa41cda\" y=\"130.44816\"/>\n     <use style=\"fill:#4c4c4c;stroke:#4c4c4c;stroke-linejoin:miter;\" x=\"390.662656\" xlink:href=\"#md48aa41cda\" y=\"185.733699\"/>\n     <use style=\"fill:#4c4c4c;stroke:#4c4c4c;stroke-linejoin:miter;\" x=\"390.662656\" xlink:href=\"#md48aa41cda\" y=\"197.580601\"/>\n     <use style=\"fill:#4c4c4c;stroke:#4c4c4c;stroke-linejoin:miter;\" x=\"390.662656\" xlink:href=\"#md48aa41cda\" y=\"129.101921\"/>\n    </g>\n   </g>\n   <g id=\"line2d_11\">\n    <path clip-path=\"url(#pa000a91d4d)\" d=\"M 122.822656 233.929048 \nL 658.502656 233.929048 \n\" style=\"fill:none;stroke:#4c4c4c;stroke-linecap:round;stroke-width:1.5;\"/>\n   </g>\n   <g id=\"patch_4\">\n    <path d=\"M 55.862656 442.08 \nL 55.862656 7.2 \n\" style=\"fill:none;stroke:#ffffff;stroke-linecap:square;stroke-linejoin:miter;stroke-width:1.25;\"/>\n   </g>\n   <g id=\"patch_5\">\n    <path d=\"M 725.462656 442.08 \nL 725.462656 7.2 \n\" style=\"fill:none;stroke:#ffffff;stroke-linecap:square;stroke-linejoin:miter;stroke-width:1.25;\"/>\n   </g>\n   <g id=\"patch_6\">\n    <path d=\"M 55.862656 442.08 \nL 725.462656 442.08 \n\" style=\"fill:none;stroke:#ffffff;stroke-linecap:square;stroke-linejoin:miter;stroke-width:1.25;\"/>\n   </g>\n   <g id=\"patch_7\">\n    <path d=\"M 55.862656 7.2 \nL 725.462656 7.2 \n\" style=\"fill:none;stroke:#ffffff;stroke-linecap:square;stroke-linejoin:miter;stroke-width:1.25;\"/>\n   </g>\n  </g>\n </g>\n <defs>\n  <clipPath id=\"pa000a91d4d\">\n   <rect height=\"434.88\" width=\"669.6\" x=\"55.862656\" y=\"7.2\"/>\n  </clipPath>\n </defs>\n</svg>\n",
      "image/png": "[encoded data removed]"
     },
     "metadata": {}
    }
   ],
   "source": [
    "# plotando grafico boxplot da variavel\n",
    "sns.boxplot(net_migration_outliers, orient=\"vertical\");"
   ]
  },
  {
   "cell_type": "code",
   "execution_count": 100,
   "metadata": {},
   "outputs": [],
   "source": [
    "# Descobrindo o intervalo em que os dados são normais\n",
    "quantil1 = net_migration_outliers.quantile(0.25)\n",
    "quantil3 = net_migration_outliers.quantile(0.75)\n",
    "iqr = quantil3 - quantil1\n",
    "\n",
    "non_outlier_interval_iqr = [(quantil1 - 1.5 * iqr), (quantil3 + 1.5 * iqr)]"
   ]
  },
  {
   "cell_type": "code",
   "execution_count": 101,
   "metadata": {},
   "outputs": [
    {
     "output_type": "execute_result",
     "data": {
      "text/plain": "[-3.8149999999999995, 3.885]"
     },
     "metadata": {},
     "execution_count": 101
    }
   ],
   "source": [
    "non_outlier_interval_iqr"
   ]
  },
  {
   "cell_type": "code",
   "execution_count": 103,
   "metadata": {},
   "outputs": [],
   "source": [
    "# Descobrindo outliers do atributo 'net_migration'\n",
    "amount_lower_outliers = net_migration_outliers[(net_migration_outliers < non_outlier_interval_iqr[0]).sum()]\n",
    "outliers_abaixo = net_migration_outliers[(net_migration_outliers < non_outlier_interval_iqr[0])]\n",
    "\n",
    "amount_higher_outliers = net_migration_outliers[(net_migration_outliers > non_outlier_interval_iqr[1]).sum()]\n",
    "outliers_acima = net_migration_outliers[(net_migration_outliers > non_outlier_interval_iqr[1])]"
   ]
  },
  {
   "cell_type": "code",
   "execution_count": 104,
   "metadata": {},
   "outputs": [
    {
     "output_type": "execute_result",
     "data": {
      "text/plain": "(24, 224)"
     },
     "metadata": {},
     "execution_count": 104
    }
   ],
   "source": [
    "len(outliers_abaixo), len(net_migration_outliers)"
   ]
  },
  {
   "cell_type": "code",
   "execution_count": 105,
   "metadata": {},
   "outputs": [],
   "source": [
    "# devo desconsiderar os outliers?\n",
    "drop_outliers = bool((amount_lower_outliers/len(net_migration_outliers)) > .05 or ((amount_higher_outliers/len(net_migration_outliers)) > .05))"
   ]
  },
  {
   "cell_type": "code",
   "execution_count": 107,
   "metadata": {},
   "outputs": [
    {
     "output_type": "execute_result",
     "data": {
      "text/plain": "(24, 26, False)"
     },
     "metadata": {},
     "execution_count": 107
    }
   ],
   "source": [
    "len(outliers_abaixo), len(outliers_acima), drop_outliers"
   ]
  },
  {
   "cell_type": "markdown",
   "metadata": {},
   "source": [
    "## Questão 5\n",
    "\n",
    "Descubra o número de _outliers_ da variável `Net_migration` segundo o método do _boxplot_, ou seja, usando a lógica:\n",
    "\n",
    "$$x \\notin [Q1 - 1.5 \\times \\text{IQR}, Q3 + 1.5 \\times \\text{IQR}] \\Rightarrow x \\text{ é outlier}$$\n",
    "\n",
    "que se encontram no grupo inferior e no grupo superior.\n",
    "\n",
    "Você deveria remover da análise as observações consideradas _outliers_ segundo esse método? Responda como uma tupla de três elementos `(outliers_abaixo, outliers_acima, removeria?)` ((int, int, bool))."
   ]
  },
  {
   "cell_type": "code",
   "execution_count": 109,
   "metadata": {},
   "outputs": [],
   "source": [
    "def q5():\n",
    "    # Retorne aqui o resultado da questão 5.\n",
    "\n",
    "    # selecionar apenas colunas net_migration\n",
    "    net_migration_outliers = df_countries['Net_migration'].dropna().copy()\n",
    "    # plotando grafico boxplot da variavel\n",
    "    sns.boxplot(net_migration_outliers, orient=\"vertical\");\n",
    "    # Descobrindo o intervalo em que os dados são normais\n",
    "    quantil1 = net_migration_outliers.quantile(0.25)\n",
    "    quantil3 = net_migration_outliers.quantile(0.75)\n",
    "    iqr = quantil3 - quantil1\n",
    "\n",
    "    non_outlier_interval_iqr = [(quantil1 - 1.5 * iqr), (quantil3 + 1.5 * iqr)]\n",
    "    # Descobrindo outliers do atributo 'net_migration'\n",
    "    amount_lower_outliers = net_migration_outliers[(net_migration_outliers < non_outlier_interval_iqr[0]).sum()]\n",
    "    outliers_abaixo = net_migration_outliers[(net_migration_outliers < non_outlier_interval_iqr[0])]\n",
    "\n",
    "    amount_higher_outliers = net_migration_outliers[(net_migration_outliers > non_outlier_interval_iqr[1]).sum()]\n",
    "    outliers_acima = net_migration_outliers[(net_migration_outliers > non_outlier_interval_iqr[1])]\n",
    "    # devo desconsiderar os outliers?\n",
    "    drop_outliers = bool((amount_lower_outliers/len(net_migration_outliers)) > .05 or ((amount_higher_outliers/len(net_migration_outliers)) > .05))\n",
    "    return len(outliers_abaixo), len(outliers_acima), drop_outliers"
   ]
  },
  {
   "cell_type": "markdown",
   "metadata": {},
   "source": [
    "### Exercicio 06"
   ]
  },
  {
   "cell_type": "code",
   "execution_count": 52,
   "metadata": {},
   "outputs": [],
   "source": [
    "# carregando categorias e o dataset\n",
    "categories = ['sci.electronics', 'comp.graphics', 'rec.motorcycles']\n",
    "newsgroups = fetch_20newsgroups(subset=\"train\", categories=categories, shuffle=True, random_state=42)"
   ]
  },
  {
   "cell_type": "code",
   "execution_count": 53,
   "metadata": {},
   "outputs": [
    {
     "output_type": "execute_result",
     "data": {
      "text/plain": "1773"
     },
     "metadata": {},
     "execution_count": 53
    }
   ],
   "source": [
    "# documento total\n",
    "len(newsgroups.data)"
   ]
  },
  {
   "cell_type": "code",
   "execution_count": 54,
   "metadata": {},
   "outputs": [
    {
     "output_type": "execute_result",
     "data": {
      "text/plain": "scipy.sparse.csr.csr_matrix"
     },
     "metadata": {},
     "execution_count": 54
    }
   ],
   "source": [
    "# transformacao por contagem de palavras - criando obj. de CountVectorizer()\n",
    "count_vectorizer = CountVectorizer()\n",
    "newsgroups_counts = count_vectorizer.fit_transform(newsgroups.data)\n",
    "type(newsgroups_counts)"
   ]
  },
  {
   "cell_type": "code",
   "execution_count": 55,
   "metadata": {},
   "outputs": [],
   "source": [
    "# selecionando todas palavras \n",
    "words = pd.DataFrame(newsgroups_counts.toarray(), columns=count_vectorizer.get_feature_names())"
   ]
  },
  {
   "cell_type": "code",
   "execution_count": 56,
   "metadata": {},
   "outputs": [
    {
     "output_type": "execute_result",
     "data": {
      "text/plain": "213"
     },
     "metadata": {},
     "execution_count": 56
    }
   ],
   "source": [
    "# somando apenas 'phones'\n",
    "words['phone'].sum()"
   ]
  },
  {
   "cell_type": "markdown",
   "metadata": {},
   "source": [
    "## Questão 6\n",
    "Para as questões 6 e 7 utilize a biblioteca `fetch_20newsgroups` de datasets de test do `sklearn`\n",
    "\n",
    "Considere carregar as seguintes categorias e o dataset `newsgroups`:\n",
    "\n",
    "```\n",
    "categories = ['sci.electronics', 'comp.graphics', 'rec.motorcycles']\n",
    "newsgroup = fetch_20newsgroups(subset=\"train\", categories=categories, shuffle=True, random_state=42)\n",
    "```\n",
    "\n",
    "\n",
    "Aplique `CountVectorizer` ao _data set_ `newsgroups` e descubra o número de vezes que a palavra _phone_ aparece no corpus. Responda como um único escalar."
   ]
  },
  {
   "cell_type": "code",
   "execution_count": 57,
   "metadata": {},
   "outputs": [],
   "source": [
    "def q6():\n",
    "    # Retorne aqui o resultado da questão 6.\n",
    "\n",
    "    # carregando categorias e o dataset\n",
    "    categories = ['sci.electronics', 'comp.graphics', 'rec.motorcycles']\n",
    "    newsgroups = fetch_20newsgroups(subset=\"train\", categories=categories, shuffle=True, random_state=42)\n",
    "    # transformacao por contagem de palavras - criando obj. de CountVectorizer()\n",
    "    count_vectorizer = CountVectorizer()\n",
    "    newsgroups_counts = count_vectorizer.fit_transform(newsgroups.data)\n",
    "    type(newsgroups_counts)\n",
    "    # selecionando todas palavras \n",
    "    words = pd.DataFrame(newsgroups_counts.toarray(), columns=count_vectorizer.get_feature_names())\n",
    "    return int(words['phone'].sum())"
   ]
  },
  {
   "cell_type": "markdown",
   "metadata": {},
   "source": [
    "### Exercicio 07"
   ]
  },
  {
   "cell_type": "code",
   "execution_count": 58,
   "metadata": {},
   "outputs": [],
   "source": [
    "# criando objeto de TfidfVectorizer()\n",
    "tfidf_vectorizer = TfidfVectorizer()"
   ]
  },
  {
   "cell_type": "code",
   "execution_count": 59,
   "metadata": {},
   "outputs": [],
   "source": [
    "# treinando o modelo\n",
    "newsgroups_tfidf_vectorized = tfidf_vectorizer.fit_transform(newsgroups.data)"
   ]
  },
  {
   "cell_type": "code",
   "execution_count": 60,
   "metadata": {},
   "outputs": [],
   "source": [
    "# criando uma dataframe para selecionar dado\n",
    "newsgroups_tfidf = pd.DataFrame(newsgroups_tfidf_vectorized.toarray(), columns=tfidf_vectorizer.get_feature_names())"
   ]
  },
  {
   "cell_type": "code",
   "execution_count": 61,
   "metadata": {},
   "outputs": [
    {
     "output_type": "execute_result",
     "data": {
      "text/plain": "8.888"
     },
     "metadata": {},
     "execution_count": 61
    }
   ],
   "source": [
    "newsgroups_tfidf['phone'].sum().round(3)"
   ]
  },
  {
   "cell_type": "markdown",
   "metadata": {},
   "source": [
    "## Questão 7\n",
    "\n",
    "Aplique `TfidfVectorizer` ao _data set_ `newsgroups` e descubra o TF-IDF da palavra _phone_. Responda como um único escalar arredondado para três casas decimais."
   ]
  },
  {
   "cell_type": "code",
   "execution_count": 62,
   "metadata": {},
   "outputs": [],
   "source": [
    "def q7():\n",
    "    # Retorne aqui o resultado da questão 7.\n",
    "    \n",
    "    # criando objeto de TfidfVectorizer()\n",
    "    tfidf_vectorizer = TfidfVectorizer()\n",
    "    # treinando o modelo\n",
    "    newsgroups_tfidf_vectorized = tfidf_vectorizer.fit_transform(newsgroups.data)\n",
    "    # criando uma dataframe para selecionar dado\n",
    "    newsgroups_tfidf = pd.DataFrame(newsgroups_tfidf_vectorized.toarray(), columns=tfidf_vectorizer.get_feature_names())\n",
    "    return float(newsgroups_tfidf['phone'].sum().round(3))"
   ]
  },
  {
   "cell_type": "code",
   "execution_count": null,
   "metadata": {},
   "outputs": [],
   "source": []
  }
 ],
 "metadata": {
  "kernelspec": {
   "display_name": "Python 3.7.3 64-bit ('venv': virtualenv)",
   "language": "python",
   "name": "python37364bitvenvvirtualenv005e147067114fe9bc306b099cb9518d"
  },
  "language_info": {
   "codemirror_mode": {
    "name": "ipython",
    "version": 3
   },
   "file_extension": ".py",
   "mimetype": "text/x-python",
   "name": "python",
   "nbconvert_exporter": "python",
   "pygments_lexer": "ipython3",
   "version": "3.7.3-final"
  }
 },
 "nbformat": 4,
 "nbformat_minor": 2
}