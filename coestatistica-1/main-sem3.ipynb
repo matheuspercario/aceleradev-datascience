{
 "cells": [
  {
   "cell_type": "markdown",
   "metadata": {},
   "source": [
    "# AceleraDev Codenation - Semana 03"
   ]
  },
  {
   "cell_type": "markdown",
   "metadata": {},
   "source": [
    "## Matheus P. Bruder | Analise Exploratória de Dados"
   ]
  },
  {
   "cell_type": "markdown",
   "metadata": {},
   "source": [
    "### Descrição dos Dados\n",
    "\n",
    "- ‘id’: Identificador do cliente \n",
    "- ‘sobrenome’: Sobrenome do cliente \n",
    "- ‘pontuacao_credito’: Pontuação de crédito do cliente (quanto maior, melhor o cliente geralmente) \n",
    "- ‘estado_residencia’: Estado de residência do cliente \n",
    "- ‘genero’: Gênero do cliente \n",
    "- ‘nivel_estabilidade’: Nível de estabilidade do cliente \n",
    "- ‘saldo_conta’: Saldo disponível na conta do cliente \n",
    "- ‘numero_produtos’: Número de produtos que o cliente consome \n",
    "- ‘possui_cartao_de_credito’: Possui um cartão de crédito cadastrado \n",
    "- ‘membro_ativo’: Membro acessa e consome frequentemente"
   ]
  },
  {
   "cell_type": "markdown",
   "metadata": {},
   "source": [
    "### Importando Pacotes\n"
   ]
  },
  {
   "cell_type": "code",
   "execution_count": 1,
   "metadata": {},
   "outputs": [],
   "source": [
    "import pandas as pd\n",
    "import seaborn as sns\n",
    "import matplotlib.pyplot as plt"
   ]
  },
  {
   "cell_type": "code",
   "execution_count": 2,
   "metadata": {},
   "outputs": [],
   "source": [
    "data = pd.read_csv('desafio1.csv')"
   ]
  },
  {
   "cell_type": "markdown",
   "metadata": {},
   "source": [
    "### Inicio da analise basica"
   ]
  },
  {
   "cell_type": "code",
   "execution_count": 3,
   "metadata": {},
   "outputs": [],
   "source": [
    "aux = pd.DataFrame({'columns': data.columns,\n",
    "                    'type': data.dtypes})"
   ]
  },
  {
   "cell_type": "code",
   "execution_count": 4,
   "metadata": {},
   "outputs": [
    {
     "output_type": "execute_result",
     "data": {
      "text/plain": "                                           columns     type\nRowNumber                                RowNumber    int64\nid                                              id   object\nsobrenome                                sobrenome   object\npontuacao_credito                pontuacao_credito    int64\nestado_residencia                estado_residencia   object\ngenero                                      genero   object\nidade                                        idade    int64\nnivel_estabilidade              nivel_estabilidade    int64\nsaldo_conta                            saldo_conta  float64\nnumero_produtos                    numero_produtos    int64\npossui_cartao_de_credito  possui_cartao_de_credito    int64\nmembro_ativo                          membro_ativo    int64",
      "text/html": "<div>\n<style scoped>\n    .dataframe tbody tr th:only-of-type {\n        vertical-align: middle;\n    }\n\n    .dataframe tbody tr th {\n        vertical-align: top;\n    }\n\n    .dataframe thead th {\n        text-align: right;\n    }\n</style>\n<table border=\"1\" class=\"dataframe\">\n  <thead>\n    <tr style=\"text-align: right;\">\n      <th></th>\n      <th>columns</th>\n      <th>type</th>\n    </tr>\n  </thead>\n  <tbody>\n    <tr>\n      <th>RowNumber</th>\n      <td>RowNumber</td>\n      <td>int64</td>\n    </tr>\n    <tr>\n      <th>id</th>\n      <td>id</td>\n      <td>object</td>\n    </tr>\n    <tr>\n      <th>sobrenome</th>\n      <td>sobrenome</td>\n      <td>object</td>\n    </tr>\n    <tr>\n      <th>pontuacao_credito</th>\n      <td>pontuacao_credito</td>\n      <td>int64</td>\n    </tr>\n    <tr>\n      <th>estado_residencia</th>\n      <td>estado_residencia</td>\n      <td>object</td>\n    </tr>\n    <tr>\n      <th>genero</th>\n      <td>genero</td>\n      <td>object</td>\n    </tr>\n    <tr>\n      <th>idade</th>\n      <td>idade</td>\n      <td>int64</td>\n    </tr>\n    <tr>\n      <th>nivel_estabilidade</th>\n      <td>nivel_estabilidade</td>\n      <td>int64</td>\n    </tr>\n    <tr>\n      <th>saldo_conta</th>\n      <td>saldo_conta</td>\n      <td>float64</td>\n    </tr>\n    <tr>\n      <th>numero_produtos</th>\n      <td>numero_produtos</td>\n      <td>int64</td>\n    </tr>\n    <tr>\n      <th>possui_cartao_de_credito</th>\n      <td>possui_cartao_de_credito</td>\n      <td>int64</td>\n    </tr>\n    <tr>\n      <th>membro_ativo</th>\n      <td>membro_ativo</td>\n      <td>int64</td>\n    </tr>\n  </tbody>\n</table>\n</div>"
     },
     "metadata": {},
     "execution_count": 4
    }
   ],
   "source": [
    "# DataFrame auxiliar para ver colunas e tipos\n",
    "aux"
   ]
  },
  {
   "cell_type": "code",
   "execution_count": 5,
   "metadata": {},
   "outputs": [
    {
     "output_type": "stream",
     "name": "stdout",
     "text": "<class 'pandas.core.frame.DataFrame'>\nRangeIndex: 7000 entries, 0 to 6999\nData columns (total 12 columns):\n #   Column                    Non-Null Count  Dtype  \n---  ------                    --------------  -----  \n 0   RowNumber                 7000 non-null   int64  \n 1   id                        7000 non-null   object \n 2   sobrenome                 7000 non-null   object \n 3   pontuacao_credito         7000 non-null   int64  \n 4   estado_residencia         7000 non-null   object \n 5   genero                    7000 non-null   object \n 6   idade                     7000 non-null   int64  \n 7   nivel_estabilidade        7000 non-null   int64  \n 8   saldo_conta               7000 non-null   float64\n 9   numero_produtos           7000 non-null   int64  \n 10  possui_cartao_de_credito  7000 non-null   int64  \n 11  membro_ativo              7000 non-null   int64  \ndtypes: float64(1), int64(7), object(4)\nmemory usage: 656.4+ KB\n"
    }
   ],
   "source": [
    "data.info()"
   ]
  },
  {
   "cell_type": "code",
   "execution_count": 6,
   "metadata": {},
   "outputs": [
    {
     "output_type": "execute_result",
     "data": {
      "text/plain": "   RowNumber                                        id  \\\n0          1  e7f44fcbd380d4cef7e6c232cc7e37895c3fd197   \n1          2  28dcb083ad90512da16b9430085c2cddb8ca5e12   \n2          3  774bc378f787438c9c7594e536787d07a097a54b   \n3          4  043a71326f7096de155e7f0c559dc62b5e4b7239   \n4          5  37b3bb8ca243955fb3605ec7e1c2a4607cdb3b22   \n\n                                  sobrenome  pontuacao_credito  \\\n0  6d6e0aa1b9b413e442e2fb68df14b4fc3f91de50                619   \n1  48e1ad846796fa314f1b4a6702b83343eb5482c5                608   \n2  f2b29d5d934de615812b697132e767dea0f1e9e2                502   \n3  85d5c9da7cddd8109ad32a6c348fe2bb10bf99f2                699   \n4  ddc89c837a6933639de75f28171057060bd322df                850   \n\n  estado_residencia genero  idade  nivel_estabilidade  saldo_conta  \\\n0                SC      F     42                   2         0.00   \n1                RS      F     41                   1     83807.86   \n2                SC      F     42                   8    159660.80   \n3                SC      F     39                   1         0.00   \n4                RS      F     43                   2    125510.82   \n\n   numero_produtos  possui_cartao_de_credito  membro_ativo  \n0                1                         1             1  \n1                1                         0             1  \n2                3                         1             0  \n3                2                         0             0  \n4                1                         1             1  ",
      "text/html": "<div>\n<style scoped>\n    .dataframe tbody tr th:only-of-type {\n        vertical-align: middle;\n    }\n\n    .dataframe tbody tr th {\n        vertical-align: top;\n    }\n\n    .dataframe thead th {\n        text-align: right;\n    }\n</style>\n<table border=\"1\" class=\"dataframe\">\n  <thead>\n    <tr style=\"text-align: right;\">\n      <th></th>\n      <th>RowNumber</th>\n      <th>id</th>\n      <th>sobrenome</th>\n      <th>pontuacao_credito</th>\n      <th>estado_residencia</th>\n      <th>genero</th>\n      <th>idade</th>\n      <th>nivel_estabilidade</th>\n      <th>saldo_conta</th>\n      <th>numero_produtos</th>\n      <th>possui_cartao_de_credito</th>\n      <th>membro_ativo</th>\n    </tr>\n  </thead>\n  <tbody>\n    <tr>\n      <th>0</th>\n      <td>1</td>\n      <td>e7f44fcbd380d4cef7e6c232cc7e37895c3fd197</td>\n      <td>6d6e0aa1b9b413e442e2fb68df14b4fc3f91de50</td>\n      <td>619</td>\n      <td>SC</td>\n      <td>F</td>\n      <td>42</td>\n      <td>2</td>\n      <td>0.00</td>\n      <td>1</td>\n      <td>1</td>\n      <td>1</td>\n    </tr>\n    <tr>\n      <th>1</th>\n      <td>2</td>\n      <td>28dcb083ad90512da16b9430085c2cddb8ca5e12</td>\n      <td>48e1ad846796fa314f1b4a6702b83343eb5482c5</td>\n      <td>608</td>\n      <td>RS</td>\n      <td>F</td>\n      <td>41</td>\n      <td>1</td>\n      <td>83807.86</td>\n      <td>1</td>\n      <td>0</td>\n      <td>1</td>\n    </tr>\n    <tr>\n      <th>2</th>\n      <td>3</td>\n      <td>774bc378f787438c9c7594e536787d07a097a54b</td>\n      <td>f2b29d5d934de615812b697132e767dea0f1e9e2</td>\n      <td>502</td>\n      <td>SC</td>\n      <td>F</td>\n      <td>42</td>\n      <td>8</td>\n      <td>159660.80</td>\n      <td>3</td>\n      <td>1</td>\n      <td>0</td>\n    </tr>\n    <tr>\n      <th>3</th>\n      <td>4</td>\n      <td>043a71326f7096de155e7f0c559dc62b5e4b7239</td>\n      <td>85d5c9da7cddd8109ad32a6c348fe2bb10bf99f2</td>\n      <td>699</td>\n      <td>SC</td>\n      <td>F</td>\n      <td>39</td>\n      <td>1</td>\n      <td>0.00</td>\n      <td>2</td>\n      <td>0</td>\n      <td>0</td>\n    </tr>\n    <tr>\n      <th>4</th>\n      <td>5</td>\n      <td>37b3bb8ca243955fb3605ec7e1c2a4607cdb3b22</td>\n      <td>ddc89c837a6933639de75f28171057060bd322df</td>\n      <td>850</td>\n      <td>RS</td>\n      <td>F</td>\n      <td>43</td>\n      <td>2</td>\n      <td>125510.82</td>\n      <td>1</td>\n      <td>1</td>\n      <td>1</td>\n    </tr>\n  </tbody>\n</table>\n</div>"
     },
     "metadata": {},
     "execution_count": 6
    }
   ],
   "source": [
    "data.head()"
   ]
  },
  {
   "cell_type": "code",
   "execution_count": 7,
   "metadata": {},
   "outputs": [
    {
     "output_type": "execute_result",
     "data": {
      "text/plain": "Index(['RowNumber', 'id', 'sobrenome', 'pontuacao_credito',\n       'estado_residencia', 'genero', 'idade', 'nivel_estabilidade',\n       'saldo_conta', 'numero_produtos', 'possui_cartao_de_credito',\n       'membro_ativo'],\n      dtype='object')"
     },
     "metadata": {},
     "execution_count": 7
    }
   ],
   "source": [
    "data.columns"
   ]
  },
  {
   "cell_type": "code",
   "execution_count": 8,
   "metadata": {},
   "outputs": [
    {
     "output_type": "execute_result",
     "data": {
      "text/plain": "RowNumber                   0\nid                          0\nsobrenome                   0\npontuacao_credito           0\nestado_residencia           0\ngenero                      0\nidade                       0\nnivel_estabilidade          0\nsaldo_conta                 0\nnumero_produtos             0\npossui_cartao_de_credito    0\nmembro_ativo                0\ndtype: int64"
     },
     "metadata": {},
     "execution_count": 8
    }
   ],
   "source": [
    "# Existe algum dado nulo?\n",
    "data.isna().sum()"
   ]
  },
  {
   "cell_type": "markdown",
   "metadata": {},
   "source": [
    "### Inicio Analise Exploratoria\n"
   ]
  },
  {
   "cell_type": "code",
   "execution_count": 9,
   "metadata": {},
   "outputs": [],
   "source": [
    "data.rename(columns = {'possui_cartao_de_credito' : 'pc_credito', 'estado_residencia': 'CEP'}, inplace = True)"
   ]
  },
  {
   "cell_type": "code",
   "execution_count": 10,
   "metadata": {},
   "outputs": [],
   "source": [
    "df = data[['sobrenome', 'pontuacao_credito', 'CEP', 'genero', 'idade', 'pc_credito']]"
   ]
  },
  {
   "cell_type": "code",
   "execution_count": 11,
   "metadata": {},
   "outputs": [
    {
     "output_type": "execute_result",
     "data": {
      "text/plain": "                                  sobrenome  pontuacao_credito CEP genero  \\\n0  6d6e0aa1b9b413e442e2fb68df14b4fc3f91de50                619  SC      F   \n1  48e1ad846796fa314f1b4a6702b83343eb5482c5                608  RS      F   \n2  f2b29d5d934de615812b697132e767dea0f1e9e2                502  SC      F   \n3  85d5c9da7cddd8109ad32a6c348fe2bb10bf99f2                699  SC      F   \n4  ddc89c837a6933639de75f28171057060bd322df                850  RS      F   \n\n   idade  pc_credito  \n0     42           1  \n1     41           0  \n2     42           1  \n3     39           0  \n4     43           1  ",
      "text/html": "<div>\n<style scoped>\n    .dataframe tbody tr th:only-of-type {\n        vertical-align: middle;\n    }\n\n    .dataframe tbody tr th {\n        vertical-align: top;\n    }\n\n    .dataframe thead th {\n        text-align: right;\n    }\n</style>\n<table border=\"1\" class=\"dataframe\">\n  <thead>\n    <tr style=\"text-align: right;\">\n      <th></th>\n      <th>sobrenome</th>\n      <th>pontuacao_credito</th>\n      <th>CEP</th>\n      <th>genero</th>\n      <th>idade</th>\n      <th>pc_credito</th>\n    </tr>\n  </thead>\n  <tbody>\n    <tr>\n      <th>0</th>\n      <td>6d6e0aa1b9b413e442e2fb68df14b4fc3f91de50</td>\n      <td>619</td>\n      <td>SC</td>\n      <td>F</td>\n      <td>42</td>\n      <td>1</td>\n    </tr>\n    <tr>\n      <th>1</th>\n      <td>48e1ad846796fa314f1b4a6702b83343eb5482c5</td>\n      <td>608</td>\n      <td>RS</td>\n      <td>F</td>\n      <td>41</td>\n      <td>0</td>\n    </tr>\n    <tr>\n      <th>2</th>\n      <td>f2b29d5d934de615812b697132e767dea0f1e9e2</td>\n      <td>502</td>\n      <td>SC</td>\n      <td>F</td>\n      <td>42</td>\n      <td>1</td>\n    </tr>\n    <tr>\n      <th>3</th>\n      <td>85d5c9da7cddd8109ad32a6c348fe2bb10bf99f2</td>\n      <td>699</td>\n      <td>SC</td>\n      <td>F</td>\n      <td>39</td>\n      <td>0</td>\n    </tr>\n    <tr>\n      <th>4</th>\n      <td>ddc89c837a6933639de75f28171057060bd322df</td>\n      <td>850</td>\n      <td>RS</td>\n      <td>F</td>\n      <td>43</td>\n      <td>1</td>\n    </tr>\n  </tbody>\n</table>\n</div>"
     },
     "metadata": {},
     "execution_count": 11
    }
   ],
   "source": [
    "df.head()"
   ]
  },
  {
   "cell_type": "code",
   "execution_count": 12,
   "metadata": {},
   "outputs": [
    {
     "output_type": "execute_result",
     "data": {
      "text/plain": "array(['SC', 'RS', 'PR'], dtype=object)"
     },
     "metadata": {},
     "execution_count": 12
    }
   ],
   "source": [
    "# Quantos estados existem no dataset?\n",
    "df['CEP'].unique()"
   ]
  },
  {
   "cell_type": "markdown",
   "metadata": {},
   "source": [
    "### Media, Madiana, Desv. Padrao\n"
   ]
  },
  {
   "cell_type": "code",
   "execution_count": 13,
   "metadata": {},
   "outputs": [
    {
     "output_type": "execute_result",
     "data": {
      "text/plain": "CEP\nPR    648.961294\nRS    651.105143\nSC    649.537653\nName: pontuacao_credito, dtype: float64"
     },
     "metadata": {},
     "execution_count": 13
    }
   ],
   "source": [
    "# Média de cada estado\n",
    "df.groupby('CEP')['pontuacao_credito'].mean()"
   ]
  },
  {
   "cell_type": "code",
   "execution_count": 14,
   "metadata": {},
   "outputs": [
    {
     "output_type": "execute_result",
     "data": {
      "text/plain": "CEP\nPR    650\nRS    650\nSC    653\nName: pontuacao_credito, dtype: int64"
     },
     "metadata": {},
     "execution_count": 14
    }
   ],
   "source": [
    "# Mediana de cada Estado\n",
    "df.groupby('CEP')['pontuacao_credito'].median()"
   ]
  },
  {
   "cell_type": "code",
   "execution_count": 15,
   "metadata": {},
   "outputs": [
    {
     "output_type": "execute_result",
     "data": {
      "text/plain": "CEP\nPR    98.607186\nRS    95.136598\nSC    97.233493\nName: pontuacao_credito, dtype: float64"
     },
     "metadata": {},
     "execution_count": 15
    }
   ],
   "source": [
    "# Desvio padrão de cada estado\n",
    "df.groupby('CEP')['pontuacao_credito'].std()"
   ]
  },
  {
   "cell_type": "markdown",
   "metadata": {},
   "source": [
    "### Moda"
   ]
  },
  {
   "cell_type": "code",
   "execution_count": 16,
   "metadata": {},
   "outputs": [
    {
     "output_type": "execute_result",
     "data": {
      "text/plain": "SC    3519\nRS    1750\nPR    1731\nName: CEP, dtype: int64"
     },
     "metadata": {},
     "execution_count": 16
    }
   ],
   "source": [
    "# Quantidade de linhas por estado\n",
    "df['CEP'].value_counts()"
   ]
  },
  {
   "cell_type": "code",
   "execution_count": 17,
   "metadata": {},
   "outputs": [],
   "source": [
    "# Apenas estado de SC\n",
    "df_sc = df[df['CEP']=='SC']\n",
    "\n",
    "# Apenas estado de PR\n",
    "df_pr = df[df['CEP']=='PR']\n",
    "\n",
    "#Apenas estado de RS\n",
    "df_rs = df[df['CEP']=='RS']"
   ]
  },
  {
   "cell_type": "code",
   "execution_count": 18,
   "metadata": {},
   "outputs": [
    {
     "output_type": "execute_result",
     "data": {
      "text/plain": "0    850\ndtype: int64"
     },
     "metadata": {},
     "execution_count": 18
    }
   ],
   "source": [
    "# Moda 'pontuacao_credito' em SC\n",
    "df_sc['pontuacao_credito'].mode()"
   ]
  },
  {
   "cell_type": "code",
   "execution_count": 19,
   "metadata": {},
   "outputs": [
    {
     "output_type": "execute_result",
     "data": {
      "text/plain": "0    850\ndtype: int64"
     },
     "metadata": {},
     "execution_count": 19
    }
   ],
   "source": [
    "# Moda 'pontuacao_credito' em PR\n",
    "df_pr['pontuacao_credito'].mode()"
   ]
  },
  {
   "cell_type": "code",
   "execution_count": 20,
   "metadata": {},
   "outputs": [
    {
     "output_type": "execute_result",
     "data": {
      "text/plain": "0    850\ndtype: int64"
     },
     "metadata": {},
     "execution_count": 20
    }
   ],
   "source": [
    "# Moda 'pontuacao_credito' em RS\n",
    "df_rs['pontuacao_credito'].mode()"
   ]
  },
  {
   "cell_type": "markdown",
   "metadata": {},
   "source": [
    "### Visualização dos Dados\n"
   ]
  },
  {
   "cell_type": "code",
   "execution_count": null,
   "metadata": {},
   "outputs": [],
   "source": []
  }
 ],
 "metadata": {
  "language_info": {
   "codemirror_mode": {
    "name": "ipython",
    "version": 3
   },
   "file_extension": ".py",
   "mimetype": "text/x-python",
   "name": "python",
   "nbconvert_exporter": "python",
   "pygments_lexer": "ipython3",
   "version": "3.8.2-final"
  },
  "orig_nbformat": 2,
  "kernelspec": {
   "name": "python38264bitaceleradevcondaea31c7cae1814aab8054ae048e24e170",
   "display_name": "Python 3.8.2 64-bit ('AceleraDev': conda)"
  }
 },
 "nbformat": 4,
 "nbformat_minor": 2
}